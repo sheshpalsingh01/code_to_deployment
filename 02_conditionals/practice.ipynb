{
 "cells": [
  {
   "cell_type": "markdown",
   "id": "c70c6210",
   "metadata": {},
   "source": [
    "### Make a program that asks for a person's age and displays whether they are of legal age or not."
   ]
  },
  {
   "cell_type": "code",
   "execution_count": null,
   "id": "c35e0077",
   "metadata": {},
   "outputs": [],
   "source": []
  },
  {
   "cell_type": "markdown",
   "id": "6d021802",
   "metadata": {},
   "source": [
    "### Write a program that reads two numbers and tells you which one is bigger."
   ]
  },
  {
   "cell_type": "code",
   "execution_count": null,
   "id": "02ca4c61",
   "metadata": {},
   "outputs": [],
   "source": []
  },
  {
   "cell_type": "markdown",
   "id": "51fc4913",
   "metadata": {},
   "source": [
    "### Write a program that asks the user for three numbers and displays the largest one."
   ]
  },
  {
   "cell_type": "code",
   "execution_count": null,
   "id": "6e66462e",
   "metadata": {},
   "outputs": [],
   "source": []
  },
  {
   "cell_type": "markdown",
   "id": "72f0a61d",
   "metadata": {},
   "source": [
    "### Write a program that reads a number and reports whether it is odd or even."
   ]
  },
  {
   "cell_type": "code",
   "execution_count": null,
   "id": "9c9c6cdc",
   "metadata": {},
   "outputs": [],
   "source": []
  },
  {
   "cell_type": "markdown",
   "id": "4e92dbfb",
   "metadata": {},
   "source": [
    "### Write a program that reads a number and reports whether it is positive, negative or zero."
   ]
  },
  {
   "cell_type": "code",
   "execution_count": null,
   "id": "0fab5760",
   "metadata": {},
   "outputs": [],
   "source": []
  },
  {
   "cell_type": "markdown",
   "id": "daf95647",
   "metadata": {},
   "source": [
    "### Make a program that reads the scores of two tests and reports whether the student passed (score greater than or equal to 6) or failed (score less than 6) in each of the tests."
   ]
  },
  {
   "cell_type": "code",
   "execution_count": null,
   "id": "14847b69",
   "metadata": {},
   "outputs": [],
   "source": []
  },
  {
   "cell_type": "markdown",
   "id": "4dc78964",
   "metadata": {},
   "source": [
    "### Make a program that reads the grades of two tests, calculates the simple arithmetic mean, and informs whether the student passed (average greater than or equal to 6) or failed (average less than 6)."
   ]
  },
  {
   "cell_type": "code",
   "execution_count": null,
   "id": "a856e8b3",
   "metadata": {},
   "outputs": [],
   "source": []
  },
  {
   "cell_type": "markdown",
   "id": "3d96d419",
   "metadata": {},
   "source": [
    "### Make a program that reads three numbers, and informs if their sum is divisible by 5 or not."
   ]
  },
  {
   "cell_type": "code",
   "execution_count": null,
   "id": "08763b96",
   "metadata": {},
   "outputs": [],
   "source": []
  },
  {
   "cell_type": "markdown",
   "id": "6e2067c5",
   "metadata": {},
   "source": [
    "### Create a program that reads three numbers and checks if their sum is positive, negative or equal to zero"
   ]
  },
  {
   "cell_type": "code",
   "execution_count": null,
   "id": "4a6aa102",
   "metadata": {},
   "outputs": [],
   "source": []
  },
  {
   "cell_type": "markdown",
   "id": "3e28acbb",
   "metadata": {},
   "source": [
    "### Make a program that reads three numbers, and displays them on the screen in ascending order."
   ]
  },
  {
   "cell_type": "code",
   "execution_count": null,
   "id": "802cfb5c",
   "metadata": {},
   "outputs": [],
   "source": []
  },
  {
   "cell_type": "markdown",
   "id": "2682b521",
   "metadata": {},
   "source": [
    "### Make a program that reads the age of three people and how many of them are of legal age (age 18 or older)."
   ]
  },
  {
   "cell_type": "code",
   "execution_count": null,
   "id": "f4b044cf",
   "metadata": {},
   "outputs": [],
   "source": []
  },
  {
   "cell_type": "markdown",
   "id": "70cfc29f",
   "metadata": {},
   "source": [
    "### Write a program that reads three numbers and tells you if they can be the sides of a triangle (the sum of two sides must always be greater than the third side)."
   ]
  },
  {
   "cell_type": "code",
   "execution_count": null,
   "id": "5715802f",
   "metadata": {},
   "outputs": [],
   "source": []
  },
  {
   "cell_type": "markdown",
   "id": "49d5b55f",
   "metadata": {},
   "source": [
    "### Make a program that reads the year of birth of a person and informs if he is able to vote (age greater than or equal to 16 years old)."
   ]
  },
  {
   "cell_type": "code",
   "execution_count": null,
   "id": "afa8ed0e",
   "metadata": {},
   "outputs": [],
   "source": []
  },
  {
   "cell_type": "markdown",
   "id": "d4f31712",
   "metadata": {},
   "source": [
    "### Make a program that reads a person's age and informs if he is not able to vote (age less than 16 years old), if he is able to vote but is not obligated (16,17 years old, or age equal to or greater than 70 years), or if it is obligatory (18 to 69 years old)."
   ]
  },
  {
   "cell_type": "code",
   "execution_count": null,
   "id": "49ec52d9",
   "metadata": {},
   "outputs": [],
   "source": []
  },
  {
   "cell_type": "markdown",
   "id": "7856dc55",
   "metadata": {},
   "source": [
    "### Make a program that reads three grades from a student and reports whether he passed (final grade greater than or equal to 7), failed (final grade less than 4) or was in recovery (final grade between 4 and 7)."
   ]
  },
  {
   "cell_type": "code",
   "execution_count": null,
   "id": "ddf383b1",
   "metadata": {},
   "outputs": [],
   "source": []
  },
  {
   "cell_type": "markdown",
   "id": "9c098368",
   "metadata": {},
   "source": [
    "### Write a program that asks for the name of a day of the week and displays whether it is a weekday (Monday to Friday) or a weekend day (Saturday and Sunday)."
   ]
  },
  {
   "cell_type": "code",
   "execution_count": null,
   "id": "40744f6d",
   "metadata": {},
   "outputs": [],
   "source": []
  },
  {
   "cell_type": "markdown",
   "id": "4124cc43",
   "metadata": {},
   "source": [
    "### Write a program that asks for a person's height and weight and calculates their body mass index (BMI), displaying the corresponding category (underweight, normal weight, overweight, obese, severely obese)."
   ]
  },
  {
   "cell_type": "code",
   "execution_count": null,
   "id": "bfb00b0c",
   "metadata": {},
   "outputs": [],
   "source": []
  },
  {
   "cell_type": "markdown",
   "id": "9e892a3a",
   "metadata": {},
   "source": [
    "### Write a program that asks for an integer and checks if it is divisible by 3 and 5 at the same time."
   ]
  },
  {
   "cell_type": "code",
   "execution_count": null,
   "id": "2c0b7bbe",
   "metadata": {},
   "outputs": [],
   "source": []
  },
  {
   "cell_type": "markdown",
   "id": "5cf5bb12",
   "metadata": {},
   "source": [
    "### Create a program that asks for a person's age and displays whether they are a child (0-12 years old), teenager (13-17 years old), adult (18-59 years old), or elderly (60 years old or older)."
   ]
  },
  {
   "cell_type": "code",
   "execution_count": null,
   "id": "5ce467af",
   "metadata": {},
   "outputs": [],
   "source": []
  },
  {
   "cell_type": "markdown",
   "id": "3dd28945",
   "metadata": {},
   "source": [
    "### Make a program that asks for two numbers and displays if the first is divisible by the second"
   ]
  },
  {
   "cell_type": "markdown",
   "id": "0a15c60c",
   "metadata": {},
   "source": []
  }
 ],
 "metadata": {
  "language_info": {
   "name": "python"
  }
 },
 "nbformat": 4,
 "nbformat_minor": 5
}
