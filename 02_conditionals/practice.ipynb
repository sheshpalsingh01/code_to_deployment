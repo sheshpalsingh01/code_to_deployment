{
 "cells": [
  {
   "cell_type": "markdown",
   "id": "c70c6210",
   "metadata": {},
   "source": [
    "### Make a program that asks for a person's age and displays whether they are of legal age or not."
   ]
  },
  {
   "cell_type": "code",
   "execution_count": null,
   "id": "ad20f4d6",
   "metadata": {},
   "outputs": [],
   "source": []
  },
  {
   "cell_type": "code",
   "execution_count": 4,
   "id": "c35e0077",
   "metadata": {},
   "outputs": [
    {
     "name": "stdout",
     "output_type": "stream",
     "text": [
      "Your age is legal age  29.0\n"
     ]
    }
   ],
   "source": [
    "a=float(input(\"Enter your age :\"))\n",
    "\n",
    "if a>0:\n",
    "    if a>=18:\n",
    "        print(\"Your age is legal age \",a)\n",
    "    else:\n",
    "        print(\"Your age not legal age\",a)\n",
    "else:\n",
    "    print(\"Age not be a Nagative\")"
   ]
  },
  {
   "cell_type": "markdown",
   "id": "6d021802",
   "metadata": {},
   "source": [
    "### Write a program that reads two numbers and tells you which one is bigger."
   ]
  },
  {
   "cell_type": "code",
   "execution_count": null,
   "id": "480fd1bf",
   "metadata": {},
   "outputs": [],
   "source": []
  },
  {
   "cell_type": "code",
   "execution_count": 5,
   "id": "02ca4c61",
   "metadata": {},
   "outputs": [
    {
     "name": "stdout",
     "output_type": "stream",
     "text": [
      "28.0 is bigger than  12.0\n"
     ]
    }
   ],
   "source": [
    "a=float(input(\"Enter the  first number \"))\n",
    "b=float(input(\"enter the second number \"))\n",
    "\n",
    "if a>b:\n",
    "    print(a,\"is bigger than \",b)\n",
    "else:\n",
    "    print(b,\"is bigger than \",a)"
   ]
  },
  {
   "cell_type": "markdown",
   "id": "51fc4913",
   "metadata": {},
   "source": [
    "### Write a program that asks the user for three numbers and displays the largest one."
   ]
  },
  {
   "cell_type": "code",
   "execution_count": null,
   "id": "a0b9d63f",
   "metadata": {},
   "outputs": [],
   "source": []
  },
  {
   "cell_type": "code",
   "execution_count": 6,
   "id": "6e66462e",
   "metadata": {},
   "outputs": [
    {
     "name": "stdout",
     "output_type": "stream",
     "text": [
      "4.0 is the biggest number given number\n"
     ]
    }
   ],
   "source": [
    "a=float(input(\"Enter the first number :\"))\n",
    "b=float(input(\"Enter the second number\"))\n",
    "c=float(input(\"Enter the third number\"))\n",
    "\n",
    "if a>b and a>c:\n",
    "    print(a,\"is the biggest number given number\")\n",
    "elif b>a and b>c:\n",
    "    print(b,\"is the biggest number given number \")\n",
    "else:\n",
    "    print(c,\"is the biggest number given number\")"
   ]
  },
  {
   "cell_type": "markdown",
   "id": "72f0a61d",
   "metadata": {},
   "source": [
    "### Write a program that reads a number and reports whether it is odd or even."
   ]
  },
  {
   "cell_type": "code",
   "execution_count": null,
   "id": "5fde29e5",
   "metadata": {},
   "outputs": [],
   "source": []
  },
  {
   "cell_type": "code",
   "execution_count": 12,
   "id": "9c9c6cdc",
   "metadata": {},
   "outputs": [
    {
     "name": "stdout",
     "output_type": "stream",
     "text": [
      "The number is Nagative odd number -30.0000017171\n"
     ]
    }
   ],
   "source": [
    "a=float(input(\"Enter the number \"))\n",
    "\n",
    "if a>0:\n",
    "    if a%2==0:\n",
    "        print(\"The number is positive even number\",a)\n",
    "    else:\n",
    "        print(\"The number is positive odd number\",a)\n",
    "else:\n",
    "    if a%2==0:\n",
    "        print(\"The number is Nagative even number\",a)\n",
    "    else:\n",
    "        print(\"The number is Nagative odd number\",a)"
   ]
  },
  {
   "cell_type": "markdown",
   "id": "4e92dbfb",
   "metadata": {},
   "source": [
    "### Write a program that reads a number and reports whether it is positive, negative or zero."
   ]
  },
  {
   "cell_type": "code",
   "execution_count": null,
   "id": "c594d07c",
   "metadata": {},
   "outputs": [],
   "source": []
  },
  {
   "cell_type": "code",
   "execution_count": 14,
   "id": "0fab5760",
   "metadata": {},
   "outputs": [
    {
     "name": "stdout",
     "output_type": "stream",
     "text": [
      "given number is odd\n",
      "nagative Number\n"
     ]
    }
   ],
   "source": [
    "a=float(input(\"Enter the number :\"))\n",
    "\n",
    "if a>0:\n",
    "    if a%2==0:\n",
    "        print(\"The number is even number\")\n",
    "    else:\n",
    "        print(\"The number is odd number\")\n",
    "    print(\"Number is positive\")\n",
    "\n",
    "elif a==0:\n",
    "    print(\"the number is Zero\")\n",
    "\n",
    "else:\n",
    "    if a%2==0:\n",
    "        print(\"Given number is even \")\n",
    "    else:\n",
    "        print(\"given number is odd\")\n",
    "    print(\"nagative Number\")\n",
    "\n"
   ]
  },
  {
   "cell_type": "markdown",
   "id": "daf95647",
   "metadata": {},
   "source": [
    "### Make a program that reads the scores of two tests and reports whether the student passed (score greater than or equal to 6) or failed (score less than 6) in each of the tests."
   ]
  },
  {
   "cell_type": "code",
   "execution_count": null,
   "id": "09c289a2",
   "metadata": {},
   "outputs": [],
   "source": []
  },
  {
   "cell_type": "code",
   "execution_count": 16,
   "id": "14847b69",
   "metadata": {},
   "outputs": [
    {
     "name": "stdout",
     "output_type": "stream",
     "text": [
      "The student is fail in second test\n"
     ]
    }
   ],
   "source": [
    "a=float(input(\"Enter the first test report score out of 10:\"))\n",
    "b=float(input(\"Enter the second test report score out of 10:\"))\n",
    "\n",
    "if a>6 and b>6:\n",
    "    print('The student pass is both test')\n",
    "elif a>6:\n",
    "    print(\"The student is pass first test\")\n",
    "elif a<6:\n",
    "    print(\"The student is fail in first test\")\n",
    "\n",
    "elif b>6:\n",
    "    print(\"The student is pass the second test\")\n",
    "elif b<6:\n",
    "    print(\"The student is fail in second test\")\n",
    "else:\n",
    "    if a<6 and b<6 :\n",
    "        print(\"The student is fail in both test\")\n",
    "\n"
   ]
  },
  {
   "cell_type": "markdown",
   "id": "4dc78964",
   "metadata": {},
   "source": [
    "### Make a program that reads the grades of two tests, calculates the simple arithmetic mean, and informs whether the student passed (average greater than or equal to 6) or failed (average less than 6)."
   ]
  },
  {
   "cell_type": "code",
   "execution_count": null,
   "id": "7165dd9d",
   "metadata": {},
   "outputs": [],
   "source": []
  },
  {
   "cell_type": "code",
   "execution_count": 20,
   "id": "a856e8b3",
   "metadata": {},
   "outputs": [
    {
     "name": "stdout",
     "output_type": "stream",
     "text": [
      "The Student is passed test\n"
     ]
    }
   ],
   "source": [
    "a=float(input(\"Enter the first test score out of 10\"))\n",
    "b=float(input(\"Enter the second test score out of 10\"))\n",
    "c=(a+b)/2\n",
    "if c>=6:\n",
    "    print(\"The Student is passed test\")\n",
    "else:\n",
    "    print(\"The student is fail  test\")"
   ]
  },
  {
   "cell_type": "markdown",
   "id": "3d96d419",
   "metadata": {},
   "source": [
    "### Make a program that reads three numbers, and informs if their sum is divisible by 5 or not."
   ]
  },
  {
   "cell_type": "code",
   "execution_count": null,
   "id": "238a2e16",
   "metadata": {},
   "outputs": [],
   "source": []
  },
  {
   "cell_type": "code",
   "execution_count": 35,
   "id": "08763b96",
   "metadata": {},
   "outputs": [
    {
     "name": "stdout",
     "output_type": "stream",
     "text": [
      "the sum of the all number is not divisible by 5\n"
     ]
    }
   ],
   "source": [
    "a=float(input(\"Enter the first number ;\"))\n",
    "b=float(input(\"Enter the second number:\"))\n",
    "c=float(input(\"Enter the third number:\"))\n",
    "\n",
    "x=(a+b+c)%5\n",
    "\n",
    "if x==0:\n",
    "    print(\"The sum of the all number  is divisible by 5\")\n",
    "else:\n",
    "    print(\"the sum of the all number is not divisible by 5\")"
   ]
  },
  {
   "cell_type": "markdown",
   "id": "6e2067c5",
   "metadata": {},
   "source": [
    "### Create a program that reads three numbers and checks if their sum is positive, negative or equal to zero"
   ]
  },
  {
   "cell_type": "code",
   "execution_count": null,
   "id": "f29b7f4a",
   "metadata": {},
   "outputs": [],
   "source": []
  },
  {
   "cell_type": "code",
   "execution_count": 36,
   "id": "4a6aa102",
   "metadata": {},
   "outputs": [
    {
     "name": "stdout",
     "output_type": "stream",
     "text": [
      "the sum of all number is positive\n"
     ]
    }
   ],
   "source": [
    "a=float(input(\"Enter the first number :\"))\n",
    "b=float(input(\"Enter the second number\"))\n",
    "c=float(input(\"enter the third number\"))\n",
    "\n",
    "x=a+b+c\n",
    "\n",
    "if x>0:\n",
    "    print(\"the sum of all number is positive\")\n",
    "elif x==0:\n",
    "    print(\"the sum of all number is zero\")\n",
    "else:\n",
    "    print(\"the sum of all number is nagative \")\n"
   ]
  },
  {
   "cell_type": "markdown",
   "id": "3e28acbb",
   "metadata": {},
   "source": [
    "### Make a program that reads three numbers, and displays them on the screen in ascending order."
   ]
  },
  {
   "cell_type": "code",
   "execution_count": null,
   "id": "acc5354a",
   "metadata": {},
   "outputs": [],
   "source": []
  },
  {
   "cell_type": "code",
   "execution_count": 48,
   "id": "802cfb5c",
   "metadata": {},
   "outputs": [
    {
     "name": "stdout",
     "output_type": "stream",
     "text": [
      "ascending order  3.0 23.0 30.0\n"
     ]
    }
   ],
   "source": [
    "a=float(input(\"Enter the first number \"))\n",
    "b=float(input(\"enter the second number\"))\n",
    "c=float(input(\"Enter the third number:\"))\n",
    "\n",
    "if a<=b and a<=c :\n",
    "    if b<=c:\n",
    "        print(\"ascending order\",a,b,c)\n",
    "    else:\n",
    "         print(\"ascending order\",a,c,b)\n",
    "\n",
    "elif b<=a and b<=c:\n",
    "        if a<=c:\n",
    "            print(\"ascending order\",b,a,c)\n",
    "        else:\n",
    "            print(\"ascending order \",b,c,a)\n",
    "elif c<=a and c<=b:\n",
    "     if a<=b:\n",
    "          print('asecending order',c,a,b)\n",
    "     else:\n",
    "          print(\"ascending order \", c,b,a)"
   ]
  },
  {
   "cell_type": "code",
   "execution_count": null,
   "id": "acfa7a7e",
   "metadata": {},
   "outputs": [],
   "source": []
  },
  {
   "cell_type": "code",
   "execution_count": 47,
   "id": "2f597ed4",
   "metadata": {},
   "outputs": [
    {
     "name": "stdout",
     "output_type": "stream",
     "text": [
      "ascending order [2.0, 4.0, 4.0]\n"
     ]
    }
   ],
   "source": [
    "a=float(input(\"Enter the first number \"))\n",
    "b=float(input(\"enter the second number\"))\n",
    "c=float(input(\"Enter the third number:\"))\n",
    "\n",
    "num=[a,b,c]\n",
    "num.sort()\n",
    "print(\"ascending order\",num)"
   ]
  },
  {
   "cell_type": "markdown",
   "id": "2682b521",
   "metadata": {},
   "source": [
    "### Make a program that reads the age of three people and how many of them are of legal age (age 18 or older)."
   ]
  },
  {
   "cell_type": "code",
   "execution_count": null,
   "id": "dd0f002a",
   "metadata": {},
   "outputs": [],
   "source": []
  },
  {
   "cell_type": "code",
   "execution_count": 49,
   "id": "f4b044cf",
   "metadata": {},
   "outputs": [
    {
     "name": "stdout",
     "output_type": "stream",
     "text": [
      "Out of the three people 2 person(s) is/are of legal age\n"
     ]
    }
   ],
   "source": [
    "age1=float(input(\"Enter the age of first person\"))\n",
    "age2=float(input(\"Enter the age of second person\"))\n",
    "age3=float(input(\"Enter the age of third person\"))\n",
    "\n",
    "legal_age_count=0\n",
    "if age1>=18:\n",
    "    legal_age_count+=1\n",
    "if age2>=18:\n",
    "    legal_age_count+=1\n",
    "    \n",
    "if age3>=18:\n",
    "    legal_age_count+=1\n",
    "    \n",
    "print(\"Out of the three people\",legal_age_count,\"person(s) is/are of legal age\")"
   ]
  },
  {
   "cell_type": "markdown",
   "id": "70cfc29f",
   "metadata": {},
   "source": [
    "### Write a program that reads three numbers and tells you if they can be the sides of a triangle (the sum of two sides must always be greater than the third side)."
   ]
  },
  {
   "cell_type": "code",
   "execution_count": null,
   "id": "e531afd0",
   "metadata": {},
   "outputs": [],
   "source": []
  },
  {
   "cell_type": "code",
   "execution_count": 51,
   "id": "5715802f",
   "metadata": {},
   "outputs": [
    {
     "name": "stdout",
     "output_type": "stream",
     "text": [
      "the three side can form a triangle\n"
     ]
    }
   ],
   "source": [
    "side1=float(input(\"Enter the length of the first side\"))\n",
    "side2=float(input(\"Enter the length of the second side\"))\n",
    "side3=float(input(\"Enter the length of the third side\"))\n",
    "\n",
    "if side1+side2>side3 and side3+side1>side2 and side2+side3>side1:\n",
    "    print(\"the three side can form a triangle\")\n",
    "else:\n",
    "    print(\"the three side con't form a triangle\")\n"
   ]
  },
  {
   "cell_type": "markdown",
   "id": "49d5b55f",
   "metadata": {},
   "source": [
    "### Make a program that reads the year of birth of a person and informs if he is able to vote (age greater than or equal to 16 years old)."
   ]
  },
  {
   "cell_type": "code",
   "execution_count": null,
   "id": "d16dea5d",
   "metadata": {},
   "outputs": [],
   "source": []
  },
  {
   "cell_type": "code",
   "execution_count": 52,
   "id": "afa8ed0e",
   "metadata": {},
   "outputs": [
    {
     "name": "stdout",
     "output_type": "stream",
     "text": [
      "You are eligible to vote\n"
     ]
    }
   ],
   "source": [
    "year_of_birth=int(input(\"Enter the year of the birth :\"))\n",
    "import datetime\n",
    "current_year=datetime.datetime.now().year\n",
    "\n",
    "age =current_year-year_of_birth\n",
    "\n",
    "if age>=16:\n",
    "    print(\"You are eligible to vote\")\n",
    "else:\n",
    "    print(\"You are not eligible to vote yet\")"
   ]
  },
  {
   "cell_type": "markdown",
   "id": "d4f31712",
   "metadata": {},
   "source": [
    "### Make a program that reads a person's age and informs if he is not able to vote (age less than 16 years old), if he is able to vote but is not obligated (16,17 years old, or age equal to or greater than 70 years), or if it is obligatory (18 to 69 years old)."
   ]
  },
  {
   "cell_type": "code",
   "execution_count": null,
   "id": "8dc66178",
   "metadata": {},
   "outputs": [],
   "source": []
  },
  {
   "cell_type": "code",
   "execution_count": 53,
   "id": "49ec52d9",
   "metadata": {},
   "outputs": [
    {
     "name": "stdout",
     "output_type": "stream",
     "text": [
      "voting is obligatory for you\n"
     ]
    }
   ],
   "source": [
    "age=int(input(\"Enter your age: \"))\n",
    "\n",
    "if age <16:\n",
    "    print(\"You are not able to vote\")\n",
    "elif age>=18 and age<=69:\n",
    "    print(\"voting is obligatory for you\")\n",
    "else:\n",
    "    print(\"Youre not able to vote, but it is not obligatory\")"
   ]
  },
  {
   "cell_type": "markdown",
   "id": "7856dc55",
   "metadata": {},
   "source": [
    "### Make a program that reads three grades from a student and reports whether he passed (final grade greater than or equal to 7), failed (final grade less than 4) or was in recovery (final grade between 4 and 7)."
   ]
  },
  {
   "cell_type": "code",
   "execution_count": null,
   "id": "7e52bbb4",
   "metadata": {},
   "outputs": [],
   "source": []
  },
  {
   "cell_type": "code",
   "execution_count": 54,
   "id": "ddf383b1",
   "metadata": {},
   "outputs": [
    {
     "name": "stdout",
     "output_type": "stream",
     "text": [
      "the student final result is : Recovery\n"
     ]
    }
   ],
   "source": [
    "g1=float(input(\"Enter the first grade:\"))\n",
    "g2=float(input(\"Enter the second grade\"))\n",
    "g3=float(input(\"Enter the third grade\"))\n",
    "\n",
    "avg_g=(g1+g2+g3)/3\n",
    "if avg_g>=7:\n",
    "    result=\"pass\"\n",
    "elif avg_g<4:\n",
    "    result=\"fail\"\n",
    "else:\n",
    "    result=\"Recovery\"\n",
    "\n",
    "print(\"the student final result is :\",result)"
   ]
  },
  {
   "cell_type": "markdown",
   "id": "9c098368",
   "metadata": {},
   "source": [
    "### Write a program that asks for the name of a day of the week and displays whether it is a weekday (Monday to Friday) or a weekend day (Saturday and Sunday)."
   ]
  },
  {
   "cell_type": "code",
   "execution_count": null,
   "id": "9287f1b8",
   "metadata": {},
   "outputs": [],
   "source": []
  },
  {
   "cell_type": "code",
   "execution_count": 55,
   "id": "40744f6d",
   "metadata": {},
   "outputs": [
    {
     "name": "stdout",
     "output_type": "stream",
     "text": [
      "Sunday is a weekend\n"
     ]
    }
   ],
   "source": [
    "day=input(\"enter the name of day\")\n",
    "day=day.lower()\n",
    "\n",
    "if day==\"saturday\" or day==\"sunday\":\n",
    "    result=\"weekend\"\n",
    "else:\n",
    "    result=\"weekday\"\n",
    "\n",
    "print(f\"{day.capitalize()} is a {result}\")"
   ]
  },
  {
   "cell_type": "markdown",
   "id": "4124cc43",
   "metadata": {},
   "source": [
    "### Write a program that asks for a person's height and weight and calculates their body mass index (BMI), displaying the corresponding category (underweight, normal weight, overweight, obese, severely obese)."
   ]
  },
  {
   "cell_type": "code",
   "execution_count": null,
   "id": "bfb00b0c",
   "metadata": {},
   "outputs": [],
   "source": []
  },
  {
   "cell_type": "markdown",
   "id": "9e892a3a",
   "metadata": {},
   "source": [
    "### Write a program that asks for an integer and checks if it is divisible by 3 and 5 at the same time."
   ]
  },
  {
   "cell_type": "code",
   "execution_count": null,
   "id": "2c0b7bbe",
   "metadata": {},
   "outputs": [],
   "source": []
  },
  {
   "cell_type": "markdown",
   "id": "5cf5bb12",
   "metadata": {},
   "source": [
    "### Create a program that asks for a person's age and displays whether they are a child (0-12 years old), teenager (13-17 years old), adult (18-59 years old), or elderly (60 years old or older)."
   ]
  },
  {
   "cell_type": "code",
   "execution_count": null,
   "id": "5ce467af",
   "metadata": {},
   "outputs": [],
   "source": []
  },
  {
   "cell_type": "markdown",
   "id": "3dd28945",
   "metadata": {},
   "source": [
    "### Make a program that asks for two numbers and displays if the first is divisible by the second"
   ]
  },
  {
   "cell_type": "markdown",
   "id": "0a15c60c",
   "metadata": {},
   "source": []
  }
 ],
 "metadata": {
  "kernelspec": {
   "display_name": "myenv",
   "language": "python",
   "name": "python3"
  },
  "language_info": {
   "codemirror_mode": {
    "name": "ipython",
    "version": 3
   },
   "file_extension": ".py",
   "mimetype": "text/x-python",
   "name": "python",
   "nbconvert_exporter": "python",
   "pygments_lexer": "ipython3",
   "version": "3.10.18"
  }
 },
 "nbformat": 4,
 "nbformat_minor": 5
}
