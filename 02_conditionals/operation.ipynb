{
 "cells": [
  {
   "cell_type": "code",
   "execution_count": null,
   "id": "6ad36311",
   "metadata": {},
   "outputs": [
    {
     "data": {
      "text/plain": [
       "False"
      ]
     },
     "execution_count": 2,
     "metadata": {},
     "output_type": "execute_result"
    }
   ],
   "source": [
    "## logical comparators are used to compare value and evaluate condittions. they return boolean value(True & False) based on the comparison result\n",
    "\n",
    "# Equal to (==)\n",
    "\n",
    "x=3\n",
    "y=4\n",
    "x==y "
   ]
  },
  {
   "cell_type": "code",
   "execution_count": 1,
   "id": "0d25d098",
   "metadata": {},
   "outputs": [
    {
     "data": {
      "text/plain": [
       "True"
      ]
     },
     "execution_count": 1,
     "metadata": {},
     "output_type": "execute_result"
    }
   ],
   "source": [
    "#Not equal to (!=): Checks if two values are not equal.\n",
    "\n",
    "x=2\n",
    "y=3\n",
    "x!=y"
   ]
  },
  {
   "cell_type": "code",
   "execution_count": 6,
   "id": "dfd47f31",
   "metadata": {},
   "outputs": [
    {
     "data": {
      "text/plain": [
       "True"
      ]
     },
     "execution_count": 6,
     "metadata": {},
     "output_type": "execute_result"
    }
   ],
   "source": [
    "# Greater than (>): Checks if the left operand is greater than the right operand.\n",
    "\n",
    "x=14\n",
    "y=7\n",
    "x>y"
   ]
  },
  {
   "cell_type": "code",
   "execution_count": 5,
   "id": "ff277c4a",
   "metadata": {},
   "outputs": [
    {
     "data": {
      "text/plain": [
       "True"
      ]
     },
     "execution_count": 5,
     "metadata": {},
     "output_type": "execute_result"
    }
   ],
   "source": [
    "# Less than (<): Checks if the left operand is less than the right operand.\n",
    "x=5\n",
    "y=13\n",
    "x<y"
   ]
  },
  {
   "cell_type": "code",
   "execution_count": 7,
   "id": "7b8ca12a",
   "metadata": {},
   "outputs": [
    {
     "data": {
      "text/plain": [
       "True"
      ]
     },
     "execution_count": 7,
     "metadata": {},
     "output_type": "execute_result"
    }
   ],
   "source": [
    "# Greater than or equal to (>=): Checks if the left operand is greater than or equal to the\n",
    "# right operand.\n",
    "x=5\n",
    "y=2\n",
    "x>=y"
   ]
  },
  {
   "cell_type": "code",
   "execution_count": 8,
   "id": "be94fc76",
   "metadata": {},
   "outputs": [
    {
     "data": {
      "text/plain": [
       "False"
      ]
     },
     "execution_count": 8,
     "metadata": {},
     "output_type": "execute_result"
    }
   ],
   "source": [
    "# Less than or equal to (<=): Checks if the left operand is less than or equal to the right\n",
    "# operand.\n",
    "\n",
    "x=6\n",
    "y=3\n",
    "x<=y"
   ]
  },
  {
   "cell_type": "code",
   "execution_count": null,
   "id": "ceb8ce16",
   "metadata": {},
   "outputs": [],
   "source": [
    "## And Operation\n",
    "\n",
    "\"\"\"A  | B  | AB\n",
    "   1  |  1 |  1\n",
    "   1  |  0 |  0\n",
    "   0  |  1 |  0\n",
    "   0  |  0 |  0\n",
    "\n",
    "   or operator\n",
    "   \n",
    "   A  | B  | A+B\n",
    "   1  |  1 |  1\n",
    "   1  |  0 |  1\n",
    "   0  |  1 |  1\n",
    "   0  |  0 |  0\n",
    "\"\"\""
   ]
  },
  {
   "cell_type": "code",
   "execution_count": null,
   "id": "77c4b768",
   "metadata": {},
   "outputs": [],
   "source": [
    "## if else\n",
    "\n",
    "if condition1:\n",
    "    print(\"code to be run if condition1 is true\")\n",
    "elif condition2:\n",
    "    print(\"code to be run when condition1 is false condition2 is true\")\n",
    "else:\n",
    "    print(\"code to be run when condition1 and condition2 are false\")\n",
    "\n",
    "    "
   ]
  },
  {
   "cell_type": "markdown",
   "id": "41a26f82",
   "metadata": {},
   "source": [
    "- elif (optional): The elif statement allows you to check additional conditions if the\n",
    "previous conditions were False. It can be used multiple times in a conditional block. If an\n",
    "elif condition is True, the code inside the corresponding block is executed. If the condition is\n",
    "False, the program moves to the next elif or else block.\n",
    "- else (optional): The else statement is used at the end of a conditional block and does not\n",
    "have a condition to check. It executes its block of code when all the previous conditions are\n",
    "False. An else block is optional, and you can have only one else block in a conditional.\n"
   ]
  },
  {
   "cell_type": "code",
   "execution_count": 9,
   "id": "1ace6266",
   "metadata": {},
   "outputs": [
    {
     "name": "stdout",
     "output_type": "stream",
     "text": [
      "x is 6 or less\n"
     ]
    }
   ],
   "source": [
    "x=6\n",
    "if x>19:\n",
    "    print(\"X is greate than 19\")\n",
    "elif x>6:\n",
    "    print(\"x is grater than 6 but not greater than 1\")\n",
    "else:\n",
    "    print(\"x is 6 or less\")"
   ]
  },
  {
   "cell_type": "markdown",
   "id": "1217314d",
   "metadata": {},
   "source": [
    "### Ternary operation in python\n",
    "- this operation also known as conditional expressions are operator that evaluate something based on a condition being true or false\n",
    "- it was added to python in version it simply allows to test a condition in single line replacing the multiline if____ else making the code comopect\n",
    "\n",
    "* Syntax of ternary Operator\n",
    "1. [ on true] if [ expresion] else [on flase]\n",
    "2. (if_ test_ is false, if_ test_is true)[ test ]\n",
    "3. {false; if test is false, true; if test is true}[ test ]\n",
    "4. (lambda: if test is false, lambda:if test is true)[test ]"
   ]
  },
  {
   "cell_type": "code",
   "execution_count": 11,
   "id": "f4075d7f",
   "metadata": {},
   "outputs": [
    {
     "name": "stdout",
     "output_type": "stream",
     "text": [
      "a is larger\n",
      "a is larger\n"
     ]
    }
   ],
   "source": [
    "a=15\n",
    "b=6\n",
    "print('a is larger') if a>b else print(\"b is larger\")\n",
    "\n",
    "print('a is larger' if a>b else \"b is larger\")"
   ]
  },
  {
   "cell_type": "code",
   "execution_count": 15,
   "id": "1ff7127c",
   "metadata": {},
   "outputs": [
    {
     "name": "stdout",
     "output_type": "stream",
     "text": [
      "5\n",
      "Hello\n",
      "Hello\n"
     ]
    }
   ],
   "source": [
    "a=3\n",
    "b=5\n",
    "\n",
    "c=a if a>b else b\n",
    "print(c)\n",
    "\n",
    "print('Hello') if a<b else print('No')\n",
    "print('Hello' if a<b else 'No')\n"
   ]
  },
  {
   "cell_type": "code",
   "execution_count": 14,
   "id": "2129b9ab",
   "metadata": {},
   "outputs": [
    {
     "name": "stdout",
     "output_type": "stream",
     "text": [
      "hello\n",
      "Hi\n",
      "no\n"
     ]
    }
   ],
   "source": [
    "\n",
    "print(\"hello\");print('yes') if a>b else print('Hi');print(\"no\")"
   ]
  },
  {
   "cell_type": "code",
   "execution_count": 16,
   "id": "35291861",
   "metadata": {},
   "outputs": [
    {
     "name": "stdout",
     "output_type": "stream",
     "text": [
      "false part\n"
     ]
    }
   ],
   "source": [
    "print((\"false part\",\"true part\")[a>b])"
   ]
  },
  {
   "cell_type": "code",
   "execution_count": 17,
   "id": "e68c7a1f",
   "metadata": {},
   "outputs": [
    {
     "name": "stdout",
     "output_type": "stream",
     "text": [
      "<function <lambda> at 0x705b1834a200>\n"
     ]
    }
   ],
   "source": [
    "print((lambda:\"no\",lambda:'yes')[a>b])"
   ]
  },
  {
   "cell_type": "code",
   "execution_count": null,
   "id": "5941b0f4",
   "metadata": {},
   "outputs": [],
   "source": []
  }
 ],
 "metadata": {
  "kernelspec": {
   "display_name": "myenv",
   "language": "python",
   "name": "python3"
  },
  "language_info": {
   "codemirror_mode": {
    "name": "ipython",
    "version": 3
   },
   "file_extension": ".py",
   "mimetype": "text/x-python",
   "name": "python",
   "nbconvert_exporter": "python",
   "pygments_lexer": "ipython3",
   "version": "3.10.18"
  }
 },
 "nbformat": 4,
 "nbformat_minor": 5
}
