{
 "cells": [
  {
   "cell_type": "markdown",
   "id": "f7b047cf",
   "metadata": {},
   "source": [
    "### syntex\n",
    "* lambda **arguments** : **expression**"
   ]
  },
  {
   "cell_type": "code",
   "execution_count": 2,
   "id": "b7e1d32c",
   "metadata": {},
   "outputs": [
    {
     "data": {
      "text/plain": [
       "11"
      ]
     },
     "execution_count": 2,
     "metadata": {},
     "output_type": "execute_result"
    }
   ],
   "source": [
    "def addition(x,y):\n",
    "    return x+y\n",
    "\n",
    "addition(5,6)"
   ]
  },
  {
   "cell_type": "code",
   "execution_count": 3,
   "id": "5224c8ea",
   "metadata": {},
   "outputs": [
    {
     "data": {
      "text/plain": [
       "9"
      ]
     },
     "execution_count": 3,
     "metadata": {},
     "output_type": "execute_result"
    }
   ],
   "source": [
    "addition=lambda x,y: x+y\n",
    "addition(4,5)"
   ]
  },
  {
   "cell_type": "code",
   "execution_count": 4,
   "id": "2f52830e",
   "metadata": {},
   "outputs": [
    {
     "data": {
      "text/plain": [
       "True"
      ]
     },
     "execution_count": 4,
     "metadata": {},
     "output_type": "execute_result"
    }
   ],
   "source": [
    "odd_even=lambda num: True if num%2==0 else False\n",
    "odd_even(6)"
   ]
  },
  {
   "cell_type": "code",
   "execution_count": 5,
   "id": "e7114ca3",
   "metadata": {},
   "outputs": [
    {
     "name": "stdout",
     "output_type": "stream",
     "text": [
      "given number is even 6\n"
     ]
    }
   ],
   "source": [
    "odd_even=lambda num: print(f\"given number is even {num}\") if num%2==0 else print(f\"Given number is odd {num}\")\n",
    "odd_even(6)"
   ]
  },
  {
   "cell_type": "code",
   "execution_count": 6,
   "id": "01a13d26",
   "metadata": {},
   "outputs": [
    {
     "data": {
      "text/plain": [
       "17"
      ]
     },
     "execution_count": 6,
     "metadata": {},
     "output_type": "execute_result"
    }
   ],
   "source": [
    "addition=lambda x,y,z: x+y+y\n",
    "addition(5,6,6)"
   ]
  },
  {
   "cell_type": "code",
   "execution_count": 7,
   "id": "662c572d",
   "metadata": {},
   "outputs": [
    {
     "data": {
      "text/plain": [
       "[1, 4, 9, 16, 25]"
      ]
     },
     "execution_count": 7,
     "metadata": {},
     "output_type": "execute_result"
    }
   ],
   "source": [
    "## map(function, iterable) -> returns a map object (an iterator) of the results after applying the given function to each item of a given iterable (list, tuple etc.)\n",
    "\n",
    "number = [1, 2, 3, 4, 5]\n",
    "squared = list(map(lambda x: x**2, number))\n",
    "squared\n"
   ]
  },
  {
   "cell_type": "code",
   "execution_count": 8,
   "id": "45c66fc0",
   "metadata": {},
   "outputs": [
    {
     "data": {
      "text/plain": [
       "[1, 8, 27, 64]"
      ]
     },
     "execution_count": 8,
     "metadata": {},
     "output_type": "execute_result"
    }
   ],
   "source": [
    "num=[1,2,3,4]\n",
    "\n",
    "cube=list(map(lambda x:x**3,num))\n",
    "cube"
   ]
  },
  {
   "cell_type": "code",
   "execution_count": 12,
   "id": "eb6d5a34",
   "metadata": {},
   "outputs": [
    {
     "data": {
      "text/plain": [
       "[9, 25, 36, 49, 64]"
      ]
     },
     "execution_count": 12,
     "metadata": {},
     "output_type": "execute_result"
    }
   ],
   "source": [
    "number=[3,5,6,7,8]\n",
    "def squre(number):\n",
    "    return number**2\n",
    "\n",
    "squre=list(map(squre,number))\n",
    "squre\n"
   ]
  },
  {
   "cell_type": "code",
   "execution_count": 13,
   "id": "560dbb15",
   "metadata": {},
   "outputs": [
    {
     "data": {
      "text/plain": [
       "[9, 25, 36, 49, 64]"
      ]
     },
     "execution_count": 13,
     "metadata": {},
     "output_type": "execute_result"
    }
   ],
   "source": [
    "list(map(lambda x:x**2, number))"
   ]
  },
  {
   "cell_type": "code",
   "execution_count": 15,
   "id": "e49eef01",
   "metadata": {},
   "outputs": [
    {
     "data": {
      "text/plain": [
       "25"
      ]
     },
     "execution_count": 15,
     "metadata": {},
     "output_type": "execute_result"
    }
   ],
   "source": [
    "## filter(function, iterable) -> constructs an iterator from elements of an iterable for which a function returns true\n",
    "def Square(num):\n",
    "    return num**2\n",
    "Square(5)"
   ]
  },
  {
   "cell_type": "code",
   "execution_count": 17,
   "id": "751a215a",
   "metadata": {},
   "outputs": [
    {
     "name": "stdout",
     "output_type": "stream",
     "text": [
      "list[<map object at 0x78b19a3d4880>]\n",
      "[1, 4, 9, 16, 25, 36, 49, 64, 81, 100, 121, 144, 169, 196, 225]\n"
     ]
    }
   ],
   "source": [
    "numbers = [1, 2, 3, 4, 5,6,7,8,9,10,11,12,13,14,15]\n",
    "print(list[map(Square, numbers)])\n",
    "print(list(map(Square, numbers)))"
   ]
  },
  {
   "cell_type": "code",
   "execution_count": 18,
   "id": "6477dd30",
   "metadata": {},
   "outputs": [
    {
     "name": "stdout",
     "output_type": "stream",
     "text": [
      "[10, 12, 10, 7, 7]\n"
     ]
    }
   ],
   "source": [
    "num1=[5,6,3,5,2]\n",
    "num2=[5,6,7,2,5]\n",
    "print(list(map(lambda x,y: x+y, num1,num2)))"
   ]
  },
  {
   "cell_type": "code",
   "execution_count": 19,
   "id": "05d9c4ff",
   "metadata": {},
   "outputs": [
    {
     "name": "stdout",
     "output_type": "stream",
     "text": [
      "[1, 2, 3, 4, 5]\n"
     ]
    }
   ],
   "source": [
    "##map() to convert a list of strings to a list of integers\n",
    "#using map() to convert a list of strings to a list of integers\n",
    "str_numbers = ['1', '2', '3', '4', '5']\n",
    "int_numbers = list(map(int, str_numbers))\n",
    "\n",
    "print(int_numbers)  # Output: [1, 2, 3, 4, 5]"
   ]
  },
  {
   "cell_type": "code",
   "execution_count": 20,
   "id": "13b1a1c7",
   "metadata": {},
   "outputs": [
    {
     "name": "stdout",
     "output_type": "stream",
     "text": [
      "['HELLO', 'WORLD', 'PYTHON']\n"
     ]
    }
   ],
   "source": [
    "words=['hello', 'world', 'python']\n",
    "upper_words=list(map(lambda x: x.upper(), words))\n",
    "print(upper_words)  # Output: ['HELLO', 'WORLD"
   ]
  },
  {
   "cell_type": "code",
   "execution_count": 22,
   "id": "87170222",
   "metadata": {},
   "outputs": [
    {
     "name": "stdout",
     "output_type": "stream",
     "text": [
      "['hello', 'world', 'python']\n"
     ]
    }
   ],
   "source": [
    "lower_words=list(map(lambda x:x.lower(),words))\n",
    "print(lower_words)"
   ]
  },
  {
   "cell_type": "code",
   "execution_count": 23,
   "id": "9a597b85",
   "metadata": {},
   "outputs": [
    {
     "data": {
      "text/plain": [
       "['kabir', 'pratic', 'punit']"
      ]
     },
     "execution_count": 23,
     "metadata": {},
     "output_type": "execute_result"
    }
   ],
   "source": [
    "def get_name(person):\n",
    "    return person['name']\n",
    "\n",
    "people=[\n",
    "    {\"name\":\"kabir\",\"age\":24},\n",
    "    {\"name\":\"pratic\",\"age\":22},\n",
    "    {\"name\":\"punit\",\"age\":19}\n",
    "]\n",
    "list(map(get_name,people))"
   ]
  },
  {
   "cell_type": "code",
   "execution_count": null,
   "id": "757e8984",
   "metadata": {},
   "outputs": [],
   "source": []
  }
 ],
 "metadata": {
  "kernelspec": {
   "display_name": "myenv",
   "language": "python",
   "name": "python3"
  },
  "language_info": {
   "codemirror_mode": {
    "name": "ipython",
    "version": 3
   },
   "file_extension": ".py",
   "mimetype": "text/x-python",
   "name": "python",
   "nbconvert_exporter": "python",
   "pygments_lexer": "ipython3",
   "version": "3.10.18"
  }
 },
 "nbformat": 4,
 "nbformat_minor": 5
}
