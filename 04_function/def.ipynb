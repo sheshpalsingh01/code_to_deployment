{
 "cells": [
  {
   "cell_type": "code",
   "execution_count": null,
   "id": "15bc5702",
   "metadata": {},
   "outputs": [],
   "source": [
    "# def function_name (parameter):\n",
    "   # fnction body\n",
    "   # return value"
   ]
  },
  {
   "cell_type": "code",
   "execution_count": 1,
   "id": "21dbd3a8",
   "metadata": {},
   "outputs": [],
   "source": [
    "def greet():\n",
    "  print(\"Hello from a function\")"
   ]
  },
  {
   "cell_type": "code",
   "execution_count": 3,
   "id": "c77bd5e8",
   "metadata": {},
   "outputs": [
    {
     "name": "stdout",
     "output_type": "stream",
     "text": [
      "Hello from a function\n"
     ]
    }
   ],
   "source": [
    "greet()"
   ]
  },
  {
   "cell_type": "code",
   "execution_count": 5,
   "id": "5fa96095",
   "metadata": {},
   "outputs": [
    {
     "name": "stdout",
     "output_type": "stream",
     "text": [
      "Odd\n"
     ]
    }
   ],
   "source": [
    "n=int(input(\"Enter the number :\"))\n",
    "\n",
    "if n%2==0:\n",
    "    print(\"even\")\n",
    "else:\n",
    "    print(\"Odd\")\n"
   ]
  },
  {
   "cell_type": "code",
   "execution_count": 6,
   "id": "ca573600",
   "metadata": {},
   "outputs": [],
   "source": [
    "def even_odd(n):\n",
    "    if n%2==0:\n",
    "        print(\"even\")\n",
    "    else:\n",
    "        print(\"odd\")"
   ]
  },
  {
   "cell_type": "code",
   "execution_count": 7,
   "id": "39e9427a",
   "metadata": {},
   "outputs": [
    {
     "name": "stdout",
     "output_type": "stream",
     "text": [
      "odd\n"
     ]
    }
   ],
   "source": [
    "even_odd(7)"
   ]
  },
  {
   "cell_type": "code",
   "execution_count": 10,
   "id": "b3f45cb0",
   "metadata": {},
   "outputs": [
    {
     "name": "stdout",
     "output_type": "stream",
     "text": [
      "Multiplication of 3 and 5 = 15\n"
     ]
    }
   ],
   "source": [
    "def multiplication(a,b):\n",
    "    c=a*b\n",
    "    return print(\"Multiplication of\",a,\"and\",b,\"=\",c)\n",
    "multiplication(3,5)\n"
   ]
  },
  {
   "cell_type": "code",
   "execution_count": 1,
   "id": "f67bff24",
   "metadata": {},
   "outputs": [
    {
     "name": "stdout",
     "output_type": "stream",
     "text": [
      "Area of the triangle is 10.0\n"
     ]
    }
   ],
   "source": [
    "## find area of triangle\n",
    "def area_triangle(a,b):\n",
    "    if a>0 and b>0:\n",
    "        area=(a*b)/2\n",
    "        print(f\"Area of the triangle is {area}\")\n",
    "    elif (a>0 or b<0) and (a<0 or b>0):\n",
    "        print(\"Check the value of given parameter\")\n",
    "    else:\n",
    "        print(\"Check value again\")\n",
    "\n",
    "area_triangle(4,5)"
   ]
  },
  {
   "cell_type": "code",
   "execution_count": 1,
   "id": "9933880e",
   "metadata": {},
   "outputs": [
    {
     "name": "stdout",
     "output_type": "stream",
     "text": [
      "Given number is even positive \n",
      "given given data type is <class 'int'>\n"
     ]
    }
   ],
   "source": [
    "def nested(num):\n",
    "    if num>0:\n",
    "        if num%2==0:\n",
    "            print(\"Given number is even positive \" )\n",
    "        else:\n",
    "            print(\"given number is odd positive\")\n",
    "    elif num<0:\n",
    "        if num!=0:\n",
    "            print(\"the given number is odd negative number\")\n",
    "        else:\n",
    "            print(\"Given number is even nagative number\")\n",
    "    else:\n",
    "        print(\"given value is Zero\")\n",
    "   \n",
    "    print(f\"given given data type is {type(num)}\")\n",
    "\n",
    "        \n",
    "nested(4)"
   ]
  },
  {
   "cell_type": "code",
   "execution_count": 2,
   "id": "855479ea",
   "metadata": {},
   "outputs": [
    {
     "name": "stdout",
     "output_type": "stream",
     "text": [
      "area of circle : {78.53981633974483}\n"
     ]
    }
   ],
   "source": [
    "import math\n",
    "def area(a):\n",
    "    if a>0:\n",
    "        area=math.pi*a*a\n",
    "        print(\"area of circle :\",{area})\n",
    "    else:\n",
    "        print(\"fill the Right value \")\n",
    "        \n",
    "area(5)"
   ]
  },
  {
   "cell_type": "code",
   "execution_count": 4,
   "id": "ccb45405",
   "metadata": {},
   "outputs": [
    {
     "name": "stdout",
     "output_type": "stream",
     "text": [
      "Hello guest How are you ?\n"
     ]
    }
   ],
   "source": [
    "# default parameter\n",
    "def great(name=\"guest\"): # guest is default parameter\n",
    "    print(f\"Hello {name} How are you ?\")\n",
    "\n",
    "great()"
   ]
  },
  {
   "cell_type": "code",
   "execution_count": 5,
   "id": "84114284",
   "metadata": {},
   "outputs": [
    {
     "name": "stdout",
     "output_type": "stream",
     "text": [
      "Hello sheshpal How are you ?\n"
     ]
    }
   ],
   "source": [
    "great(\"sheshpal\")"
   ]
  },
  {
   "cell_type": "code",
   "execution_count": 6,
   "id": "83e646ee",
   "metadata": {},
   "outputs": [
    {
     "name": "stdout",
     "output_type": "stream",
     "text": [
      "1\n",
      "2\n",
      "3\n",
      "4\n",
      "5\n",
      "67\n",
      "7\n",
      "8\n",
      "9\n"
     ]
    }
   ],
   "source": [
    "## Variable length arguments\n",
    "# Positional  and keyword Argument\n",
    "\n",
    "def print_num(*args): # args is replace and name\n",
    "    for number in args:\n",
    "        print(number)\n",
    "        \n",
    "print_num(1,2,3,4,5,67,7,8,9)"
   ]
  },
  {
   "cell_type": "code",
   "execution_count": 7,
   "id": "b41572d9",
   "metadata": {},
   "outputs": [
    {
     "name": "stdout",
     "output_type": "stream",
     "text": [
      "key: name ::: value :shehpal\n",
      "key: country ::: value :India\n"
     ]
    }
   ],
   "source": [
    "## Keyword Argument\n",
    "def print_detail(**kwargs):\n",
    "    for key,value in kwargs.items():\n",
    "        print(f\"key: {key} ::: value :{value}\")\n",
    "        \n",
    "        \n",
    "print_detail(name=\"shehpal\",country=\"India\")"
   ]
  },
  {
   "cell_type": "code",
   "execution_count": 9,
   "id": "f098d173",
   "metadata": {},
   "outputs": [
    {
     "name": "stdout",
     "output_type": "stream",
     "text": [
      "Positional Argument 1\n",
      "Positional Argument 3\n",
      "Positional Argument 2\n",
      "Positional Argument 4\n",
      "Positional Argument 6\n",
      "key : name ||| value : sheshpal\n",
      "key : country ||| value : India\n"
     ]
    }
   ],
   "source": [
    "def print_detail(*args,**kwargs):\n",
    "    # args is replace and name\n",
    "    for val in args:\n",
    "        print(f\"Positional Argument {val}\")\n",
    "        \n",
    "    for key,value in kwargs.items():\n",
    "        print(f\"key : {key} ||| value : {value}\")\n",
    "        \n",
    "print_detail(1,3,2,4,6,name=\"sheshpal\",country=\"India\")"
   ]
  },
  {
   "cell_type": "code",
   "execution_count": 10,
   "id": "8baa7501",
   "metadata": {},
   "outputs": [
    {
     "data": {
      "text/plain": [
       "(30, 15625)"
      ]
     },
     "execution_count": 10,
     "metadata": {},
     "output_type": "execute_result"
    }
   ],
   "source": [
    "## return statement\n",
    "def multiple(a,b):\n",
    "    return a*b,a**b \n",
    "multiple(5,6)"
   ]
  },
  {
   "cell_type": "code",
   "execution_count": null,
   "id": "9da116fb",
   "metadata": {},
   "outputs": [],
   "source": []
  }
 ],
 "metadata": {
  "kernelspec": {
   "display_name": "myenv",
   "language": "python",
   "name": "python3"
  },
  "language_info": {
   "codemirror_mode": {
    "name": "ipython",
    "version": 3
   },
   "file_extension": ".py",
   "mimetype": "text/x-python",
   "name": "python",
   "nbconvert_exporter": "python",
   "pygments_lexer": "ipython3",
   "version": "3.10.18"
  }
 },
 "nbformat": 4,
 "nbformat_minor": 5
}
