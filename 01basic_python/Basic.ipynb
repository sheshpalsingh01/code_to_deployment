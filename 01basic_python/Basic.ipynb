{
 "cells": [
  {
   "cell_type": "markdown",
   "id": "ce9b7e10",
   "metadata": {},
   "source": [
    "## Print Function\n",
    "#### print(*object, sep=\"\",end=\"\\n\",file=sys.stdout,flush=False) =  Print()\n",
    "- object = represent the one or more values to the desplay\n",
    "- sep = Use for string saperation\n",
    "- end = Use for what character should be printed at the end\n",
    "- file = It's represent the standard output console/terminal if you want redirect output than use it\n",
    "- flush = it is set to false whish means the output is not immediately flushed. setting it to True will ensure the output is written immediately\n"
   ]
  },
  {
   "cell_type": "markdown",
   "id": "0036c08d",
   "metadata": {},
   "source": [
    "##### Sep (How to separate object)"
   ]
  },
  {
   "cell_type": "code",
   "execution_count": 2,
   "id": "9f9cc0d5",
   "metadata": {},
   "outputs": [
    {
     "name": "stdout",
     "output_type": "stream",
     "text": [
      "Hello&&&72&&&7jk\n"
     ]
    }
   ],
   "source": [
    "print(\"Hello\",2,'jk', sep=\"&&&7\")"
   ]
  },
  {
   "cell_type": "code",
   "execution_count": 3,
   "id": "cf89e66e",
   "metadata": {},
   "outputs": [
    {
     "name": "stdout",
     "output_type": "stream",
     "text": [
      "hello3\n"
     ]
    }
   ],
   "source": [
    "print(\"hello\",3,sep=\"\")"
   ]
  },
  {
   "cell_type": "markdown",
   "id": "b733e1f3",
   "metadata": {},
   "source": [
    "##### Printing reference through print"
   ]
  },
  {
   "cell_type": "code",
   "execution_count": 10,
   "id": "9ef2455a",
   "metadata": {},
   "outputs": [
    {
     "name": "stdout",
     "output_type": "stream",
     "text": [
      "3 4\n",
      "a = 3 b = 4\n",
      "7\n"
     ]
    }
   ],
   "source": [
    "a=3\n",
    "b=4\n",
    "print(a,b)\n",
    "print(\"a =\",a,\"b =\",b)\n",
    "print(a+b)"
   ]
  },
  {
   "cell_type": "code",
   "execution_count": 13,
   "id": "7f1bb140",
   "metadata": {},
   "outputs": [
    {
     "name": "stdout",
     "output_type": "stream",
     "text": [
      "['he', 'bu', 12]\n"
     ]
    }
   ],
   "source": [
    "print(['he','bu',12],sep='@')"
   ]
  },
  {
   "cell_type": "markdown",
   "id": "a8acc7d6",
   "metadata": {},
   "source": [
    "##### End in Print"
   ]
  },
  {
   "cell_type": "code",
   "execution_count": 15,
   "id": "e9b637e1",
   "metadata": {},
   "outputs": [
    {
     "name": "stdout",
     "output_type": "stream",
     "text": [
      "hellp@"
     ]
    }
   ],
   "source": [
    "print('hellp',end=\"@\")"
   ]
  },
  {
   "cell_type": "markdown",
   "id": "4e49c219",
   "metadata": {},
   "source": [
    "##### File in Print"
   ]
  },
  {
   "cell_type": "code",
   "execution_count": null,
   "id": "50069071",
   "metadata": {},
   "outputs": [],
   "source": [
    "file=open(\"hell.txt\",\"w\")\n",
    "print(\"this is new file\",file=file)\n",
    "file.close()"
   ]
  },
  {
   "cell_type": "code",
   "execution_count": 4,
   "id": "35ddbdab",
   "metadata": {},
   "outputs": [],
   "source": [
    "file=open(\"hell.txt\",\"w\")\n",
    "print(\"this is second message\", file=file)\n",
    "file.close()"
   ]
  },
  {
   "cell_type": "markdown",
   "id": "0d7427ec",
   "metadata": {},
   "source": [
    "##### Flush in Print [ No effect on output]\n",
    "- Flush = False No-Buffer and Print in One go so it's not take much time\n",
    "- Flush = True Buffer and Print one by one word so it's take time campair to the False "
   ]
  },
  {
   "cell_type": "code",
   "execution_count": 19,
   "id": "e45687ea",
   "metadata": {},
   "outputs": [
    {
     "name": "stdout",
     "output_type": "stream",
     "text": [
      "hello\n"
     ]
    }
   ],
   "source": [
    "print('hello',flush=False)"
   ]
  },
  {
   "cell_type": "code",
   "execution_count": 20,
   "id": "339bfc91",
   "metadata": {},
   "outputs": [
    {
     "name": "stdout",
     "output_type": "stream",
     "text": [
      "hello\n"
     ]
    }
   ],
   "source": [
    "print('hello',flush=True)"
   ]
  },
  {
   "cell_type": "markdown",
   "id": "6e4d386e",
   "metadata": {},
   "source": [
    "### Input(Prompt) : This is optional parameter that represent the string to be displayed as a prompt to be used"
   ]
  },
  {
   "cell_type": "code",
   "execution_count": 21,
   "id": "40f00cc3",
   "metadata": {},
   "outputs": [
    {
     "name": "stdout",
     "output_type": "stream",
     "text": [
      "hello\n"
     ]
    }
   ],
   "source": [
    "a = input()\n",
    "print(a)"
   ]
  },
  {
   "cell_type": "code",
   "execution_count": 6,
   "id": "fd2397a5",
   "metadata": {},
   "outputs": [
    {
     "data": {
      "text/plain": [
       "str"
      ]
     },
     "execution_count": 6,
     "metadata": {},
     "output_type": "execute_result"
    }
   ],
   "source": [
    "a=input(\"this is take str value\")\n",
    "a\n",
    "type(a)"
   ]
  },
  {
   "cell_type": "code",
   "execution_count": null,
   "id": "ed079e4f",
   "metadata": {},
   "outputs": [],
   "source": []
  },
  {
   "cell_type": "markdown",
   "id": "e2486add",
   "metadata": {},
   "source": [
    "### Multiple Input "
   ]
  },
  {
   "cell_type": "code",
   "execution_count": 22,
   "id": "a822dbbb",
   "metadata": {},
   "outputs": [
    {
     "name": "stdout",
     "output_type": "stream",
     "text": [
      "user name shesh pal singh\n"
     ]
    }
   ],
   "source": [
    "fname=input()\n",
    "mname=input()\n",
    "lname=input()\n",
    "\n",
    "print(\"user name\", fname,mname,lname)"
   ]
  },
  {
   "cell_type": "code",
   "execution_count": 26,
   "id": "56c00f5b",
   "metadata": {},
   "outputs": [
    {
     "name": "stdout",
     "output_type": "stream",
     "text": [
      "username: shesh pal singh\n"
     ]
    }
   ],
   "source": [
    "fname,mname,lname=input('first name:').split()\n",
    "print('username:',fname,mname,lname)"
   ]
  },
  {
   "cell_type": "code",
   "execution_count": 7,
   "id": "d8578f7c",
   "metadata": {},
   "outputs": [
    {
     "name": "stdout",
     "output_type": "stream",
     "text": [
      "username: shesh pal singh\n",
      "['firozabad', 'up']\n"
     ]
    }
   ],
   "source": [
    "## Second case when user give extra parameter how to handle\n",
    "fname,mname,lname,*address=input('First name :').split()\n",
    "print(\"username:\",fname,mname,lname)\n",
    "print(address)"
   ]
  },
  {
   "cell_type": "markdown",
   "id": "fc1d4cd6",
   "metadata": {},
   "source": [
    "### Type casting\n",
    "- In python we can convert one type to another type of variable to another type this conversion is called type casting of type conversion\n",
    "- When switch one type another type value may be change"
   ]
  },
  {
   "cell_type": "code",
   "execution_count": 31,
   "id": "d5e918a0",
   "metadata": {},
   "outputs": [
    {
     "name": "stdout",
     "output_type": "stream",
     "text": [
      "<class 'int'> <class 'float'>\n"
     ]
    }
   ],
   "source": [
    "a=3\n",
    "b=3.2\n",
    "a+b\n",
    "print(type(a),type(b))"
   ]
  },
  {
   "cell_type": "code",
   "execution_count": null,
   "id": "87aeee4e",
   "metadata": {},
   "outputs": [
    {
     "name": "stdout",
     "output_type": "stream",
     "text": [
      "<class 'int'> <class 'float'> <class 'bool'> <class 'str'>\n",
      "<class 'float'> <class 'float'> <class 'bool'> <class 'str'>\n",
      "<class 'bool'> <class 'str'>\n",
      "<class 'int'> <class 'float'> <class 'bool'> <class 'str'>\n"
     ]
    }
   ],
   "source": [
    "# Inmplicit casting (python do self) --> python interpreter automatically perform an implicit type \n",
    "#conversion which avoids loss of data\n",
    "# Type casting allow only Number not str\n",
    "\n",
    "\n",
    "## Explicit Casting [user Casting ] -->type convesion depend upon coder\n",
    "# int() <--> float() <--> complex(), bool(), str()\n",
    "\n",
    "# 1. Narrowing type casting : float --> int, float--> int -->bool\n",
    "# 2. widing Typr Casting : int --> float, bool -->int --> float\n",
    "\n",
    "\n",
    "n=2\n",
    "f=float(a)\n",
    "b=bool(a)\n",
    "s=str(a)\n",
    "print(type(n),type(f),type(b),type(s))\n",
    "\n",
    "## float conversion\n",
    "n=2.00\n",
    "\n",
    "f=float(a)\n",
    "b=bool(a)\n",
    "s=str(a)\n",
    "print(type(n),type(f),type(b),type(s))\n",
    "\n",
    "\n",
    "## str conversion\n",
    "n=\"hello\"\n",
    "# a=int(n)\n",
    "# f=float(a)\n",
    "b=bool(a)\n",
    "s=str(a)\n",
    "print(type(b),type(s))\n",
    "\n",
    "\n",
    "## bool conversion\n",
    "n=True\n",
    "a=int(n)\n",
    "f=float(a)\n",
    "b=bool(a)\n",
    "s=str(a)\n",
    "print(type(a),type(f),type(b),type(s))\n",
    "\n",
    "\n",
    "\n",
    "\n",
    "\n",
    "\n"
   ]
  },
  {
   "cell_type": "markdown",
   "id": "716f92ae",
   "metadata": {},
   "source": [
    "### Math Operation\n",
    "- (+) = Addition\n",
    "- .- = Subtraction\n",
    "- .* = multiplication\n",
    "- / = Division\n",
    "- //= Floor Division\n",
    "- % = Modul\n",
    "- **= Exponential\n",
    "- abs() = Absolute Value\n",
    "- round() = Round value\n",
    "Many more .....\n"
   ]
  },
  {
   "cell_type": "code",
   "execution_count": 15,
   "id": "440aa9ad",
   "metadata": {},
   "outputs": [
    {
     "name": "stdout",
     "output_type": "stream",
     "text": [
      "addition 9\n",
      "subtraction -1\n",
      "multiplication 20\n",
      "Division 0.8\n",
      "floor Division 0\n",
      "modul 4\n",
      "Exponential 1024\n",
      "absolute Value 9.982\n",
      "round of value 10\n"
     ]
    }
   ],
   "source": [
    "\n",
    "print(\"addition\",4+5)\n",
    "print(\"subtraction\",4-5)\n",
    "print(\"multiplication\",4*5)\n",
    "print(\"Division\",4/5)\n",
    "print(\"floor Division\",4//5)\n",
    "print(\"modul\",4%5)\n",
    "print(\"Exponential\",4**5)\n",
    "print(\"absolute Value\",abs(4+5.982))\n",
    "print(\"round of value\",round(4.333333333333333+5.444444444))\n"
   ]
  },
  {
   "cell_type": "code",
   "execution_count": null,
   "id": "a2e0ac5d",
   "metadata": {},
   "outputs": [],
   "source": []
  }
 ],
 "metadata": {
  "kernelspec": {
   "display_name": "myenv",
   "language": "python",
   "name": "python3"
  },
  "language_info": {
   "codemirror_mode": {
    "name": "ipython",
    "version": 3
   },
   "file_extension": ".py",
   "mimetype": "text/x-python",
   "name": "python",
   "nbconvert_exporter": "python",
   "pygments_lexer": "ipython3",
   "version": "3.10.18"
  }
 },
 "nbformat": 4,
 "nbformat_minor": 5
}
