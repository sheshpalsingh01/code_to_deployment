{
 "cells": [
  {
   "cell_type": "markdown",
   "id": "d7676e36",
   "metadata": {},
   "source": [
    "### 1. Write a program that prompts the user for two numbers and displays the addition, subtraction, multiplication, and division between them."
   ]
  },
  {
   "cell_type": "code",
   "execution_count": null,
   "id": "c0cf9426",
   "metadata": {},
   "outputs": [],
   "source": []
  },
  {
   "cell_type": "code",
   "execution_count": null,
   "id": "fa4e3f6d",
   "metadata": {},
   "outputs": [
    {
     "name": "stdout",
     "output_type": "stream",
     "text": [
      "the addition of the 17.00 and 4.000000 is 21.00 \n",
      "the multiplication of the 17.00 and 4.00 is 68.00\n",
      "the subtraction of the 17.00 and 4.00 is 13.00\n",
      "the divsion between 17.00 and 4.00 is 4.25\n"
     ]
    }
   ],
   "source": [
    "a=float(input(\"Enter the First number:\" ))\n",
    "b=float(input(\"Enter the second number:\"))\n",
    "\n",
    "print(f\"the addition of the %.2f and %2f is %.2f \"%(a,b,a+b))\n",
    "print(f\"the multiplication of the %.2f and %.2f is %.2f\"%(a,b,a*b))\n",
    "print(f\"the subtraction of the %.2f and %.2f is %.2f\"%(a,b,a-b))\n",
    "print(f\"the divsion between %.2f and %.2f is %.2f\"%(a,b,a/b))"
   ]
  },
  {
   "cell_type": "code",
   "execution_count": null,
   "id": "df63e459",
   "metadata": {},
   "outputs": [],
   "source": []
  },
  {
   "cell_type": "code",
   "execution_count": null,
   "id": "97b60028",
   "metadata": {},
   "outputs": [
    {
     "name": "stdout",
     "output_type": "stream",
     "text": [
      "multiplication of 3.0 and 5.0 is = 15.0\n",
      "th multiflication is 3.0 and 5.0 is 15.0\n"
     ]
    }
   ],
   "source": [
    "a=float(input(\"Enter the first number:\"))\n",
    "b=float(input(\"Enter the seconod number:\"))\n",
    "c=a*b\n",
    "print(\"multiplication of\", a ,\"and\" ,b ,\"is =\" ,a*b ,)\n",
    "print(\"the multiflication is {0} and {1} is {2}\".format(a,b,c))\n"
   ]
  },
  {
   "cell_type": "markdown",
   "id": "f0f41a9a",
   "metadata": {},
   "source": [
    "### 2.Write a program that calculates the arithmetic mean of two numbers."
   ]
  },
  {
   "cell_type": "code",
   "execution_count": null,
   "id": "a05b8484",
   "metadata": {},
   "outputs": [],
   "source": []
  },
  {
   "cell_type": "code",
   "execution_count": 17,
   "id": "bc8b1e96",
   "metadata": {},
   "outputs": [
    {
     "name": "stdout",
     "output_type": "stream",
     "text": [
      "the mean of 784.00 and 43.00 is 413.50\n",
      "the mean of 784.0 and 43.0 is 413.5\n",
      "the mean of 784.0 and 43.0 is 413.5\n",
      "Arthmetic mean 413.5\n"
     ]
    }
   ],
   "source": [
    "a=float(input(\"Enter the first number:\"))\n",
    "b= float(input(\"Enter the second number:\"))\n",
    "mean=(a+b)/2\n",
    "\n",
    "print(f\"the mean of %.2f and %.2f is %.2f\"%(a,b,(a+b)/2))\n",
    "print(\"the mean of {} and {} is {}\".format(a,b,(a+b)/2))\n",
    "print(\"the mean of\",a,\"and\",b,\"is\",(a+b)/2)\n",
    "print(\"Arthmetic mean\",mean)"
   ]
  },
  {
   "cell_type": "markdown",
   "id": "6c05cf9f",
   "metadata": {},
   "source": [
    "### 3. Create a program that calculates and displays the arithmetic mean of three grades entered by the user."
   ]
  },
  {
   "cell_type": "code",
   "execution_count": null,
   "id": "26e8aa84",
   "metadata": {},
   "outputs": [],
   "source": []
  },
  {
   "cell_type": "code",
   "execution_count": null,
   "id": "664f97b5",
   "metadata": {},
   "outputs": [
    {
     "name": "stdout",
     "output_type": "stream",
     "text": [
      "Arithmetic mean291.67\n"
     ]
    }
   ],
   "source": [
    "a=float(input(\"enter the fisrt number:\"))\n",
    "b=float(input(\"Enter the second Numer:\"))\n",
    "c=float(input(\"Enter the third number:\"))\n",
    "\n",
    "mean=(a+b+c)/3\n",
    "print(\"Arithmetic mean\" \"{:.2f} \".format(mean))"
   ]
  },
  {
   "cell_type": "markdown",
   "id": "8cd1af2c",
   "metadata": {},
   "source": [
    "### 4. Write a program that calculates the geometric mean of three numbers entered by the user"
   ]
  },
  {
   "cell_type": "code",
   "execution_count": 22,
   "id": "48eeec45",
   "metadata": {},
   "outputs": [
    {
     "name": "stdout",
     "output_type": "stream",
     "text": [
      "Geo mean 3.9999999999999996\n"
     ]
    }
   ],
   "source": [
    "import math\n",
    "a=float(input(\"enter the fisrt number:\"))\n",
    "b=float(input(\"Enter the second Numer:\"))\n",
    "c=float(input(\"Enter the third number:\"))\n",
    "\n",
    "product=a*b*c\n",
    "\n",
    "geo_mean=math.pow(product,1/3)\n",
    "print(\"Geo mean\",geo_mean)"
   ]
  },
  {
   "cell_type": "markdown",
   "id": "8e17651c",
   "metadata": {},
   "source": [
    "### 5. Write a program that calculates the BMI of an individual, using the formula BMI = weight / height²"
   ]
  },
  {
   "cell_type": "code",
   "execution_count": 30,
   "id": "31b14510",
   "metadata": {},
   "outputs": [
    {
     "name": "stdout",
     "output_type": "stream",
     "text": [
      "BMI 0.002\n"
     ]
    }
   ],
   "source": [
    "a=float(input(\"Enter the Weight:\"))\n",
    "b=float(input(\"Enter the hight :\"))\n",
    "\n",
    "bmi=a/b**2\n",
    "print('BMI %.3f'%bmi)"
   ]
  },
  {
   "cell_type": "markdown",
   "id": "a2732b5e",
   "metadata": {},
   "source": [
    "### 6. Create a program that calculates and displays the perimeter of a circle, prompting the user for the radius."
   ]
  },
  {
   "cell_type": "code",
   "execution_count": 29,
   "id": "a37fb999",
   "metadata": {},
   "outputs": [
    {
     "name": "stdout",
     "output_type": "stream",
     "text": [
      "Perimeter of Circle is 25.133\n"
     ]
    }
   ],
   "source": [
    "# 2pir\n",
    "import math\n",
    "a=float(input(\"enter the radias:\"))\n",
    "\n",
    "pr=2*math.pi*a\n",
    "\n",
    "print(\"Perimeter of Circle is %.3f\"%pr)"
   ]
  },
  {
   "cell_type": "markdown",
   "id": "3280c44a",
   "metadata": {},
   "source": [
    "### 7. Write a program that calculates the area of a circle from the radius, using the formula A = πr²"
   ]
  },
  {
   "cell_type": "code",
   "execution_count": 28,
   "id": "a928db73",
   "metadata": {},
   "outputs": [
    {
     "name": "stdout",
     "output_type": "stream",
     "text": [
      "The area of a Circlr is 28.274\n"
     ]
    }
   ],
   "source": [
    "import math\n",
    "a=float(input(\"Enter the radius of circle :\"))\n",
    "\n",
    "area=math.pi*a**2\n",
    "\n",
    "print(\"The area of a Circlr is %.3f\"%(area))\n"
   ]
  },
  {
   "cell_type": "markdown",
   "id": "f7609799",
   "metadata": {},
   "source": [
    "### 8. Write a program that calculates the delta of a quadratic equation (Δ = b² - 4ac)."
   ]
  },
  {
   "cell_type": "code",
   "execution_count": null,
   "id": "91fb3e7e",
   "metadata": {},
   "outputs": [],
   "source": []
  },
  {
   "cell_type": "code",
   "execution_count": 33,
   "id": "d2945aab",
   "metadata": {},
   "outputs": [
    {
     "name": "stdout",
     "output_type": "stream",
     "text": [
      "The delta of the quadratic equation is  -5226.8591\n"
     ]
    }
   ],
   "source": [
    "a=float(input(\"Enter the coefficient of a :\"))\n",
    "b=float(input(\"Enter the coefficient of b :\"))\n",
    "c=float(input(\"Enter the coefficient of c\"))\n",
    "\n",
    "delta=b**2-4*a*c\n",
    "\n",
    "print(f\"The delta of the quadratic equation is \",delta)"
   ]
  },
  {
   "cell_type": "markdown",
   "id": "f4b7057a",
   "metadata": {},
   "source": [
    "### 9. Write a program that calculates the perimeter and area of a rectangle, using the formulas P = 2(w + l) and A = wl, where w is the width and l is the length"
   ]
  },
  {
   "cell_type": "code",
   "execution_count": null,
   "id": "1931bbce",
   "metadata": {},
   "outputs": [],
   "source": []
  },
  {
   "cell_type": "code",
   "execution_count": 34,
   "id": "d52733ed",
   "metadata": {},
   "outputs": [
    {
     "name": "stdout",
     "output_type": "stream",
     "text": [
      "The perimeter  of rectangle is : 16.0\n",
      "The area of rectangleis : 16.0\n"
     ]
    }
   ],
   "source": [
    "a=float(input(\"Enter the length :\"))\n",
    "b=float(input(\"Enter the width :\"))\n",
    "\n",
    "perimeter=2*(a+b)\n",
    "area=a*b\n",
    "\n",
    "print(f\"The perimeter  of rectangle is :\",perimeter)\n",
    "print(f\"The area of rectangleis :\",area)"
   ]
  },
  {
   "cell_type": "markdown",
   "id": "70434a4e",
   "metadata": {},
   "source": [
    "### 10. Write a program that calculates the perimeter and area of a triangle, using the formulas P = a + b + c and A = (b * h) / 2, where a, b and c are the sides of the triangle and h is the height relative to the side B."
   ]
  },
  {
   "cell_type": "code",
   "execution_count": null,
   "id": "5b47dd08",
   "metadata": {},
   "outputs": [],
   "source": []
  },
  {
   "cell_type": "code",
   "execution_count": 35,
   "id": "9710b253",
   "metadata": {},
   "outputs": [
    {
     "name": "stdout",
     "output_type": "stream",
     "text": [
      "The perimeter of triangle is : 11.0\n"
     ]
    }
   ],
   "source": [
    "a=float(input(\"Enter the side a :\"))\n",
    "b=float(input(\"Enter the side b :\"))\n",
    "c=float(input(\"Enter the side c :\"))\n",
    "\n",
    "perimeter=a+b+c \n",
    "print(f\"The perimeter of triangle is :\",perimeter)"
   ]
  },
  {
   "cell_type": "code",
   "execution_count": null,
   "id": "3d6c0224",
   "metadata": {},
   "outputs": [],
   "source": []
  },
  {
   "cell_type": "code",
   "execution_count": 37,
   "id": "3592d3b3",
   "metadata": {},
   "outputs": [
    {
     "name": "stdout",
     "output_type": "stream",
     "text": [
      "The area of triangle is : 4.0\n"
     ]
    }
   ],
   "source": [
    "a=float(input(\"Enter the Hight of triangle :\"))\n",
    "b=float(input(\"Enter the side b :\"))\n",
    "area=(a*b)/2\n",
    "\n",
    "print(\"The area of triangle is :\",area)"
   ]
  },
  {
   "cell_type": "markdown",
   "id": "46229a78",
   "metadata": {},
   "source": [
    "### 11. Write a program that calculates the average velocity of an object, using the formula v = Δs/Δt, where v is the average velocity, Δs is the space variation, and Δt is the time variation"
   ]
  },
  {
   "cell_type": "code",
   "execution_count": null,
   "id": "1a8a2153",
   "metadata": {},
   "outputs": [],
   "source": []
  },
  {
   "cell_type": "code",
   "execution_count": 40,
   "id": "b1bea680",
   "metadata": {},
   "outputs": [
    {
     "name": "stdout",
     "output_type": "stream",
     "text": [
      "The avg velocity is 6.429 :\n"
     ]
    }
   ],
   "source": [
    "sv=float(input(\"Enter the space variation :\"))\n",
    "tv=float(input(\"Enter the time variation :\"))\n",
    "velocity=sv/tv\n",
    "\n",
    "print(\"The avg velocity is %.3f :\"%velocity)"
   ]
  },
  {
   "cell_type": "markdown",
   "id": "7d8db93c",
   "metadata": {},
   "source": [
    "###  12. Write a program that calculates the kinetic energy of a moving object, using the formula E = (mv²) / 2, where E is the kinetic energy, m is the mass of the object, and v is the velocity."
   ]
  },
  {
   "cell_type": "code",
   "execution_count": null,
   "id": "4a3b16dc",
   "metadata": {},
   "outputs": [],
   "source": []
  },
  {
   "cell_type": "code",
   "execution_count": 41,
   "id": "fe2159bb",
   "metadata": {},
   "outputs": [
    {
     "name": "stdout",
     "output_type": "stream",
     "text": [
      "The kinatic Enargy of the object is :64.0000\n"
     ]
    }
   ],
   "source": [
    "m= float(input('Enter the mass of the object :'))\n",
    "v=  float(input(\"Enter the velocity of the object :\"))\n",
    "\n",
    "E=(m*v**2)/2\n",
    "\n",
    "print(\"The kinatic Enargy of the object is :%.4f\"%E)\n"
   ]
  },
  {
   "cell_type": "markdown",
   "id": "6c740441",
   "metadata": {},
   "source": [
    "### 13. Write a program that calculates the work done by a force acting on an object, using the formula T = F * d, where T is the work, F is the applied force, and d is the distance traveled by the object."
   ]
  },
  {
   "cell_type": "code",
   "execution_count": null,
   "id": "6e8c9a75",
   "metadata": {},
   "outputs": [],
   "source": []
  },
  {
   "cell_type": "code",
   "execution_count": 42,
   "id": "590ff51a",
   "metadata": {},
   "outputs": [
    {
     "name": "stdout",
     "output_type": "stream",
     "text": [
      "The work done by the force acting on an object :21.360\n"
     ]
    }
   ],
   "source": [
    "f=float(input(\"Enter the applied force on object :\"))\n",
    "d=float(input(\"Enter the distance traveled by the object :\"))\n",
    "\n",
    "t=f*d\n",
    "\n",
    "print(\"The work done by the force acting on an object :%.3f\"%t)\n"
   ]
  },
  {
   "cell_type": "markdown",
   "id": "710a49c3",
   "metadata": {},
   "source": [
    "### 14. Write a program that reads the x and y position of two points in the Cartesian plane, and calculates the distance between them."
   ]
  },
  {
   "cell_type": "code",
   "execution_count": null,
   "id": "98ca047a",
   "metadata": {},
   "outputs": [],
   "source": []
  },
  {
   "cell_type": "code",
   "execution_count": 43,
   "id": "3bc47737",
   "metadata": {},
   "outputs": [
    {
     "name": "stdout",
     "output_type": "stream",
     "text": [
      "the distance between two plane is : 5.30736\n"
     ]
    }
   ],
   "source": [
    "x1=float(input(\"Enter the x- co-ordinate of the point 1 :\"))\n",
    "y1=float(input(\"Enter the y co-ordinate of the point 1 :\"))\n",
    "\n",
    "x2=float(input(\"Enter the x- co-ordinate of the point 2 :\"))\n",
    "y2=float(input(\"Enter the y co-ordinate of the point 2 :\"))\n",
    "\n",
    "dist=math.sqrt((x1-x2)**2+(y1-y2)**2)\n",
    "\n",
    "print(\"the distance between two plane is : %.5f\"%dist)"
   ]
  },
  {
   "cell_type": "markdown",
   "id": "4a5abf85",
   "metadata": {},
   "source": [
    "### 15. Create a program that prompts the user for the radius of a sphere and calculates and displays its volume."
   ]
  },
  {
   "cell_type": "code",
   "execution_count": null,
   "id": "fba6d87f",
   "metadata": {},
   "outputs": [],
   "source": [
    "## do youself"
   ]
  }
 ],
 "metadata": {
  "kernelspec": {
   "display_name": "myenv",
   "language": "python",
   "name": "python3"
  },
  "language_info": {
   "codemirror_mode": {
    "name": "ipython",
    "version": 3
   },
   "file_extension": ".py",
   "mimetype": "text/x-python",
   "name": "python",
   "nbconvert_exporter": "python",
   "pygments_lexer": "ipython3",
   "version": "3.10.18"
  }
 },
 "nbformat": 4,
 "nbformat_minor": 5
}
