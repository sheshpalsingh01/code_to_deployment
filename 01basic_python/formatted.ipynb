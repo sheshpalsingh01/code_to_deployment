{
 "cells": [
  {
   "cell_type": "markdown",
   "id": "95fd2886",
   "metadata": {},
   "source": [
    "### Formatted Output\n",
    "- In general you will want to have more formatting control over the output of your program than simply printing a space saperated value\n",
    "\n",
    "- Batter representation\n",
    "- More option over printing\n",
    "\n",
    "- Here is few method\n",
    "- string literals\n",
    "- format()"
   ]
  },
  {
   "cell_type": "markdown",
   "id": "fd760aef",
   "metadata": {},
   "source": [
    "### Formatting String"
   ]
  },
  {
   "cell_type": "code",
   "execution_count": 6,
   "id": "34b67fd7",
   "metadata": {},
   "outputs": [],
   "source": [
    "# %[<flags>][<width>][.<precision>]<type>\n",
    "# % = Conversion specifier\n",
    "# <flags> = that exert finer control over formatting\n",
    "# <width> = specifies the minimum  width of the formatted result\n",
    "# <Precision> = Determine the length and precision of flooting point or str output\n",
    "# <type> = type conversion"
   ]
  },
  {
   "cell_type": "code",
   "execution_count": 7,
   "id": "27b7d627",
   "metadata": {},
   "outputs": [],
   "source": [
    "# Type Specifier\n",
    "\n",
    "# d,I,U --> Decimal Int\n",
    "# x,X --> Hexadacimal int\n",
    "# o --> octal\n",
    "\n",
    "## float\n",
    "# f,F --> floating point\n",
    "# e,E --> Exponetial\n",
    "# g,G --> float and Exponetial\n",
    "\n",
    "# s,r,a --> string\n",
    "# c --> single character"
   ]
  },
  {
   "cell_type": "code",
   "execution_count": null,
   "id": "efd7f4f1",
   "metadata": {},
   "outputs": [
    {
     "name": "stdout",
     "output_type": "stream",
     "text": [
      "addition of 5 and 6 is = 11\n"
     ]
    }
   ],
   "source": [
    "### Int number\n",
    "\n",
    "print(f\"addition of %d and %d is = %d\"%(5,6,5+6)) \n",
    "## Here d represent decimal number, O is represent octal number, x represent hexadacimal number"
   ]
  },
  {
   "cell_type": "code",
   "execution_count": 5,
   "id": "801151bb",
   "metadata": {},
   "outputs": [
    {
     "name": "stdout",
     "output_type": "stream",
     "text": [
      "a=2 b=9\n"
     ]
    }
   ],
   "source": [
    "a=2\n",
    "b=9\n",
    "print(f'a=%d b=%d'%(a,b))"
   ]
  },
  {
   "cell_type": "code",
   "execution_count": null,
   "id": "bf5a72da",
   "metadata": {},
   "outputs": [
    {
     "name": "stdout",
     "output_type": "stream",
     "text": [
      "a=3.000000 b=4.300000\n"
     ]
    }
   ],
   "source": [
    "## Float Number\n",
    "# f,F --> floating point\n",
    "# e,E --> Exponetial\n",
    "# g,G --> float and Exponetial\n",
    "\n",
    "a=3.0\n",
    "b=4.3\n",
    "print(f\"a=%f b=%f\"%(a,b))"
   ]
  },
  {
   "cell_type": "code",
   "execution_count": 2,
   "id": "862a58e8",
   "metadata": {},
   "outputs": [
    {
     "name": "stdout",
     "output_type": "stream",
     "text": [
      "a=3.000000 b=4.300000\n"
     ]
    }
   ],
   "source": [
    "\n",
    "a=3.0\n",
    "b=4.3\n",
    "print(f\"a=%F b=%F\"%(a,b))"
   ]
  },
  {
   "cell_type": "code",
   "execution_count": 4,
   "id": "e3682e81",
   "metadata": {},
   "outputs": [
    {
     "name": "stdout",
     "output_type": "stream",
     "text": [
      "a=3.000000e+03 b=4.444000e-01\n"
     ]
    }
   ],
   "source": [
    "\n",
    "a=3000\n",
    "b=0.4444\n",
    "print(f\"a=%e b=%e\"%(a,b))"
   ]
  },
  {
   "cell_type": "code",
   "execution_count": null,
   "id": "74a06871",
   "metadata": {},
   "outputs": [],
   "source": [
    "## String "
   ]
  },
  {
   "cell_type": "code",
   "execution_count": 9,
   "id": "d41f8d9b",
   "metadata": {},
   "outputs": [
    {
     "name": "stdout",
     "output_type": "stream",
     "text": [
      "a='hello' 'world'\n"
     ]
    }
   ],
   "source": [
    "a=\"hello\"\n",
    "b=\"world\"\n",
    "\n",
    "print(f\"a=%a %a\"%(a,b))"
   ]
  },
  {
   "cell_type": "code",
   "execution_count": 8,
   "id": "8d932ffb",
   "metadata": {},
   "outputs": [],
   "source": [
    "## Character Conversion\n",
    "# C it convert to unicode charactor "
   ]
  },
  {
   "cell_type": "code",
   "execution_count": 15,
   "id": "c865bd91",
   "metadata": {},
   "outputs": [
    {
     "name": "stdout",
     "output_type": "stream",
     "text": [
      "a=A\n"
     ]
    }
   ],
   "source": [
    "print(f'a=%c'%65)"
   ]
  },
  {
   "cell_type": "markdown",
   "id": "0aa562ae",
   "metadata": {},
   "source": [
    "### Flag option"
   ]
  },
  {
   "cell_type": "code",
   "execution_count": null,
   "id": "851ea41a",
   "metadata": {},
   "outputs": [],
   "source": [
    "# # = Display of base or dacimal value\n",
    "# O = padding of value\n",
    "# - = justification of value\n",
    "# + = Display of leading Sign"
   ]
  },
  {
   "cell_type": "code",
   "execution_count": null,
   "id": "103eff59",
   "metadata": {},
   "outputs": [
    {
     "name": "stdout",
     "output_type": "stream",
     "text": [
      "65\n",
      "101\n"
     ]
    }
   ],
   "source": [
    "print(f'%#d'%65)\n",
    "print(f'%o'%65) # %o us use for convert decimal to octal"
   ]
  },
  {
   "cell_type": "code",
   "execution_count": 32,
   "id": "f25a26c5",
   "metadata": {},
   "outputs": [
    {
     "name": "stdout",
     "output_type": "stream",
     "text": [
      "00002\n"
     ]
    }
   ],
   "source": [
    "print(f'%05d'%2)"
   ]
  },
  {
   "cell_type": "markdown",
   "id": "9e7bde22",
   "metadata": {},
   "source": [
    "### Width Specifier"
   ]
  },
  {
   "cell_type": "code",
   "execution_count": 23,
   "id": "d9dfcd74",
   "metadata": {},
   "outputs": [
    {
     "name": "stdout",
     "output_type": "stream",
     "text": [
      "   6\n",
      "  83\n",
      "8767\n"
     ]
    }
   ],
   "source": [
    "print(f'%4d'%6)\n",
    "print(f'%4d'%83)\n",
    "print(f'%4d'%8767)"
   ]
  },
  {
   "cell_type": "code",
   "execution_count": 24,
   "id": "2f0fbaf7",
   "metadata": {},
   "outputs": [
    {
     "name": "stdout",
     "output_type": "stream",
     "text": [
      "6   \n",
      "83  \n",
      "8767\n"
     ]
    }
   ],
   "source": [
    "print(f'%-4d'%6)\n",
    "print(f'%-4d'%83)\n",
    "print(f'%-4d'%8767)"
   ]
  },
  {
   "cell_type": "code",
   "execution_count": null,
   "id": "9dc57bb5",
   "metadata": {},
   "outputs": [],
   "source": [
    "# float --> %f\n",
    "# str --> %s \n",
    "# char --> %c"
   ]
  },
  {
   "cell_type": "markdown",
   "id": "089bde81",
   "metadata": {},
   "source": [
    "### Precision Specifier"
   ]
  },
  {
   "cell_type": "code",
   "execution_count": 26,
   "id": "2052606d",
   "metadata": {},
   "outputs": [
    {
     "name": "stdout",
     "output_type": "stream",
     "text": [
      "a=65\n",
      "12.340000\n"
     ]
    }
   ],
   "source": [
    "print(f\"a=%.2d\"%65)\n",
    "print(f'%f'%12.34)"
   ]
  },
  {
   "cell_type": "code",
   "execution_count": 27,
   "id": "e280a3fd",
   "metadata": {},
   "outputs": [
    {
     "name": "stdout",
     "output_type": "stream",
     "text": [
      "12.34\n"
     ]
    }
   ],
   "source": [
    "print(f'%.2f'%12.34)"
   ]
  },
  {
   "cell_type": "markdown",
   "id": "ff5835ab",
   "metadata": {},
   "source": [
    "## Formatted Srting literals"
   ]
  },
  {
   "cell_type": "code",
   "execution_count": 33,
   "id": "b274e59a",
   "metadata": {},
   "outputs": [
    {
     "name": "stdout",
     "output_type": "stream",
     "text": [
      "addition of the 3 and 4 is 7\n"
     ]
    }
   ],
   "source": [
    "print(f\"addition of the {3} and {4} is {3+4}\")"
   ]
  },
  {
   "cell_type": "code",
   "execution_count": null,
   "id": "97418dd8",
   "metadata": {},
   "outputs": [
    {
     "name": "stdout",
     "output_type": "stream",
     "text": [
      "addition of the   2 and   3 is = 5\n"
     ]
    }
   ],
   "source": [
    "print(f\"addition of the {2:3} and {3:3} is = {2+3}\")\n",
    "\n",
    "# { value : width}"
   ]
  },
  {
   "cell_type": "code",
   "execution_count": 43,
   "id": "1b51f4da",
   "metadata": {},
   "outputs": [
    {
     "name": "stdout",
     "output_type": "stream",
     "text": [
      "sum of the 'hello'    and 'friend'  ='hellofriend'\n"
     ]
    }
   ],
   "source": [
    "a='hello'\n",
    "b='friend'\n",
    "c=a+b\n",
    "print(f'sum of the {a!r:10} and {b!r:10}={c!r:10}')"
   ]
  },
  {
   "cell_type": "code",
   "execution_count": 47,
   "id": "aad7361c",
   "metadata": {},
   "outputs": [
    {
     "name": "stdout",
     "output_type": "stream",
     "text": [
      "sheshpal and 21\n"
     ]
    }
   ],
   "source": [
    "a={'name':'sheshpal','age':21}\n",
    "print(f'%(name)s and %(age)d'%a)"
   ]
  },
  {
   "cell_type": "code",
   "execution_count": null,
   "id": "4bf6044c",
   "metadata": {},
   "outputs": [
    {
     "name": "stdout",
     "output_type": "stream",
     "text": [
      "we are the know who sayni\n"
     ]
    }
   ],
   "source": [
    "print('we are the {} who say {}'.format(\"know\",\"ni\"))"
   ]
  },
  {
   "cell_type": "code",
   "execution_count": 49,
   "id": "32d2a465",
   "metadata": {},
   "outputs": [
    {
     "name": "stdout",
     "output_type": "stream",
     "text": [
      "this spam is ham\n"
     ]
    }
   ],
   "source": [
    "print(\"this {food} is {adjective}\".format(food=\"spam\",adjective=\"ham\"))"
   ]
  },
  {
   "cell_type": "code",
   "execution_count": 54,
   "id": "452fd7cc",
   "metadata": {},
   "outputs": [
    {
     "name": "stdout",
     "output_type": "stream",
     "text": [
      "jack:4098; sjeord:4127;Dcab:8637838\n"
     ]
    }
   ],
   "source": [
    "print('jack:{0[jack]:d}; sjeord:{0[sjeord]:d};Dcab:{0[Dcab]:d}'.format({'sjeord':4127,'jack':4098,'Dcab':8637838}))"
   ]
  },
  {
   "cell_type": "code",
   "execution_count": 56,
   "id": "29ddd9b1",
   "metadata": {},
   "outputs": [
    {
     "name": "stdout",
     "output_type": "stream",
     "text": [
      "jack:4098; sjeord:4127;Dcab:8637838\n"
     ]
    }
   ],
   "source": [
    "print('jack:{jack:d}; sjeord:{sjeord:d};Dcab:{Dcab:d}'.format(**{'sjeord':4127,'jack':4098,'Dcab':8637838}))"
   ]
  },
  {
   "cell_type": "code",
   "execution_count": 57,
   "id": "58fbc2f9",
   "metadata": {},
   "outputs": [
    {
     "name": "stdout",
     "output_type": "stream",
     "text": [
      "sheshpal            \n"
     ]
    }
   ],
   "source": [
    "a=\"sheshpal\"\n",
    "print('{:<20}'.format(a))"
   ]
  },
  {
   "cell_type": "code",
   "execution_count": 58,
   "id": "1d39f6ba",
   "metadata": {},
   "outputs": [
    {
     "name": "stdout",
     "output_type": "stream",
     "text": [
      "            sheshpal\n"
     ]
    }
   ],
   "source": [
    "print(\"{:>20}\".format(a))\n"
   ]
  },
  {
   "cell_type": "code",
   "execution_count": 59,
   "id": "4cc23bc1",
   "metadata": {},
   "outputs": [
    {
     "name": "stdout",
     "output_type": "stream",
     "text": [
      "      sheshpal      \n"
     ]
    }
   ],
   "source": [
    "print(\"{:^20}\".format(a))"
   ]
  },
  {
   "cell_type": "code",
   "execution_count": null,
   "id": "a2101f93",
   "metadata": {},
   "outputs": [],
   "source": []
  }
 ],
 "metadata": {
  "kernelspec": {
   "display_name": "myenv",
   "language": "python",
   "name": "python3"
  },
  "language_info": {
   "codemirror_mode": {
    "name": "ipython",
    "version": 3
   },
   "file_extension": ".py",
   "mimetype": "text/x-python",
   "name": "python",
   "nbconvert_exporter": "python",
   "pygments_lexer": "ipython3",
   "version": "3.10.18"
  }
 },
 "nbformat": 4,
 "nbformat_minor": 5
}
