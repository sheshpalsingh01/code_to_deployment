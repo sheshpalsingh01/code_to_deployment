{
 "cells": [
  {
   "cell_type": "markdown",
   "id": "23711250",
   "metadata": {},
   "source": [
    "### Write a program that displays the numbers 1 through 10 using a loop. Using while"
   ]
  },
  {
   "cell_type": "code",
   "execution_count": 1,
   "id": "cb281fba",
   "metadata": {},
   "outputs": [
    {
     "name": "stdout",
     "output_type": "stream",
     "text": [
      "1\n",
      "2\n",
      "3\n",
      "4\n",
      "5\n",
      "6\n",
      "7\n",
      "8\n",
      "9\n",
      "10\n"
     ]
    }
   ],
   "source": [
    "num=1\n",
    "while num<=10:\n",
    "    print(num)\n",
    "    num+=1"
   ]
  },
  {
   "cell_type": "code",
   "execution_count": 2,
   "id": "3bb9e331",
   "metadata": {},
   "outputs": [
    {
     "name": "stdout",
     "output_type": "stream",
     "text": [
      "1\n",
      "2\n",
      "3\n",
      "4\n",
      "5\n",
      "6\n",
      "7\n",
      "8\n",
      "9\n",
      "10\n"
     ]
    }
   ],
   "source": [
    "## using for loop\n",
    "for i in range(1,11):\n",
    "    print(i)"
   ]
  },
  {
   "cell_type": "markdown",
   "id": "1498af8e",
   "metadata": {},
   "source": [
    "### Write a program that displays all numbers from 1 to 100"
   ]
  },
  {
   "cell_type": "code",
   "execution_count": 3,
   "id": "2bb83cdd",
   "metadata": {},
   "outputs": [
    {
     "name": "stdout",
     "output_type": "stream",
     "text": [
      "1\n",
      "2\n",
      "3\n",
      "4\n",
      "5\n",
      "6\n",
      "7\n",
      "8\n",
      "9\n",
      "10\n",
      "11\n",
      "12\n",
      "13\n",
      "14\n",
      "15\n",
      "16\n",
      "17\n",
      "18\n",
      "19\n",
      "20\n",
      "21\n",
      "22\n",
      "23\n",
      "24\n",
      "25\n",
      "26\n",
      "27\n",
      "28\n",
      "29\n",
      "30\n",
      "31\n",
      "32\n",
      "33\n",
      "34\n",
      "35\n",
      "36\n",
      "37\n",
      "38\n",
      "39\n",
      "40\n",
      "41\n",
      "42\n",
      "43\n",
      "44\n",
      "45\n",
      "46\n",
      "47\n",
      "48\n",
      "49\n",
      "50\n",
      "51\n",
      "52\n",
      "53\n",
      "54\n",
      "55\n",
      "56\n",
      "57\n",
      "58\n",
      "59\n",
      "60\n",
      "61\n",
      "62\n",
      "63\n",
      "64\n",
      "65\n",
      "66\n",
      "67\n",
      "68\n",
      "69\n",
      "70\n",
      "71\n",
      "72\n",
      "73\n",
      "74\n",
      "75\n",
      "76\n",
      "77\n",
      "78\n",
      "79\n",
      "80\n",
      "81\n",
      "82\n",
      "83\n",
      "84\n",
      "85\n",
      "86\n",
      "87\n",
      "88\n",
      "89\n",
      "90\n",
      "91\n",
      "92\n",
      "93\n",
      "94\n",
      "95\n",
      "96\n",
      "97\n",
      "98\n",
      "99\n",
      "100\n"
     ]
    }
   ],
   "source": [
    "for i in range(1,101):\n",
    "    print(i)"
   ]
  },
  {
   "cell_type": "code",
   "execution_count": 4,
   "id": "74171c63",
   "metadata": {},
   "outputs": [
    {
     "name": "stdout",
     "output_type": "stream",
     "text": [
      "1\n",
      "2\n",
      "3\n",
      "4\n",
      "5\n",
      "6\n",
      "7\n",
      "8\n",
      "9\n",
      "10\n",
      "11\n",
      "12\n",
      "13\n",
      "14\n",
      "15\n",
      "16\n",
      "17\n",
      "18\n",
      "19\n",
      "20\n",
      "21\n",
      "22\n",
      "23\n",
      "24\n",
      "25\n",
      "26\n",
      "27\n",
      "28\n",
      "29\n",
      "30\n",
      "31\n",
      "32\n",
      "33\n",
      "34\n",
      "35\n",
      "36\n",
      "37\n",
      "38\n",
      "39\n",
      "40\n",
      "41\n",
      "42\n",
      "43\n",
      "44\n",
      "45\n",
      "46\n",
      "47\n",
      "48\n",
      "49\n",
      "50\n",
      "51\n",
      "52\n",
      "53\n",
      "54\n",
      "55\n",
      "56\n",
      "57\n",
      "58\n",
      "59\n",
      "60\n",
      "61\n",
      "62\n",
      "63\n",
      "64\n",
      "65\n",
      "66\n",
      "67\n",
      "68\n",
      "69\n",
      "70\n",
      "71\n",
      "72\n",
      "73\n",
      "74\n",
      "75\n",
      "76\n",
      "77\n",
      "78\n",
      "79\n",
      "80\n",
      "81\n",
      "82\n",
      "83\n",
      "84\n",
      "85\n",
      "86\n",
      "87\n",
      "88\n",
      "89\n",
      "90\n",
      "91\n",
      "92\n",
      "93\n",
      "94\n",
      "95\n",
      "96\n",
      "97\n",
      "98\n",
      "99\n",
      "100\n"
     ]
    }
   ],
   "source": [
    "num=1\n",
    "while num<=100:\n",
    "    print(num)\n",
    "    num+=1"
   ]
  },
  {
   "cell_type": "markdown",
   "id": "7b300c46",
   "metadata": {},
   "source": [
    "### Write a program that prints all even numbers from 1 to 100."
   ]
  },
  {
   "cell_type": "code",
   "execution_count": 7,
   "id": "5cbfb158",
   "metadata": {},
   "outputs": [
    {
     "name": "stdout",
     "output_type": "stream",
     "text": [
      "2\n",
      "4\n",
      "6\n",
      "8\n",
      "10\n",
      "12\n",
      "14\n",
      "16\n",
      "18\n",
      "20\n",
      "22\n",
      "24\n",
      "26\n",
      "28\n",
      "30\n",
      "32\n",
      "34\n",
      "36\n",
      "38\n",
      "40\n",
      "42\n",
      "44\n",
      "46\n",
      "48\n",
      "50\n",
      "52\n",
      "54\n",
      "56\n",
      "58\n",
      "60\n",
      "62\n",
      "64\n",
      "66\n",
      "68\n",
      "70\n",
      "72\n",
      "74\n",
      "76\n",
      "78\n",
      "80\n",
      "82\n",
      "84\n",
      "86\n",
      "88\n",
      "90\n",
      "92\n",
      "94\n",
      "96\n",
      "98\n",
      "100\n"
     ]
    }
   ],
   "source": [
    "num=1\n",
    "while num<=100:\n",
    "    if num%2==0:\n",
    "        print(num)\n",
    "    num+=1"
   ]
  },
  {
   "cell_type": "code",
   "execution_count": 6,
   "id": "439c0826",
   "metadata": {},
   "outputs": [
    {
     "name": "stdout",
     "output_type": "stream",
     "text": [
      "0\n",
      "2\n",
      "4\n",
      "6\n",
      "8\n",
      "10\n",
      "12\n",
      "14\n",
      "16\n",
      "18\n",
      "20\n",
      "22\n",
      "24\n",
      "26\n",
      "28\n",
      "30\n",
      "32\n",
      "34\n",
      "36\n",
      "38\n",
      "40\n",
      "42\n",
      "44\n",
      "46\n",
      "48\n",
      "50\n",
      "52\n",
      "54\n",
      "56\n",
      "58\n",
      "60\n",
      "62\n",
      "64\n",
      "66\n",
      "68\n",
      "70\n",
      "72\n",
      "74\n",
      "76\n",
      "78\n",
      "80\n",
      "82\n",
      "84\n",
      "86\n",
      "88\n",
      "90\n",
      "92\n",
      "94\n",
      "96\n",
      "98\n",
      "100\n"
     ]
    }
   ],
   "source": [
    "for i in range(0,101,2):\n",
    "    print(i)"
   ]
  },
  {
   "cell_type": "markdown",
   "id": "0dff288e",
   "metadata": {},
   "source": [
    "### Write a program that displays even numbers 1 to 50 and odd numbers 51 to 100 using a repeating loop."
   ]
  },
  {
   "cell_type": "code",
   "execution_count": 12,
   "id": "1ed9df69",
   "metadata": {},
   "outputs": [
    {
     "name": "stdout",
     "output_type": "stream",
     "text": [
      "even 2\n",
      "even 4\n",
      "even 6\n",
      "even 8\n",
      "even 10\n",
      "even 12\n",
      "even 14\n",
      "even 16\n",
      "even 18\n",
      "even 20\n",
      "even 22\n",
      "even 24\n",
      "even 26\n",
      "even 28\n",
      "even 30\n",
      "even 32\n",
      "even 34\n",
      "even 36\n",
      "even 38\n",
      "even 40\n",
      "even 42\n",
      "even 44\n",
      "even 46\n",
      "even 48\n",
      "even 50\n",
      "odd 51\n",
      "odd 53\n",
      "odd 55\n",
      "odd 57\n",
      "odd 59\n",
      "odd 61\n",
      "odd 63\n",
      "odd 65\n",
      "odd 67\n",
      "odd 69\n",
      "odd 71\n",
      "odd 73\n",
      "odd 75\n",
      "odd 77\n",
      "odd 79\n",
      "odd 81\n",
      "odd 83\n",
      "odd 85\n",
      "odd 87\n",
      "odd 89\n",
      "odd 91\n",
      "odd 93\n",
      "odd 95\n",
      "odd 97\n",
      "odd 99\n"
     ]
    }
   ],
   "source": [
    "num=1\n",
    "while num<=100:\n",
    "    while num<=50:\n",
    "        if num%2==0:\n",
    "            print(\"even\",num)\n",
    "        num+=1\n",
    "    while num<=100:\n",
    "        if num%2!=0:\n",
    "            print(\"odd\",num)\n",
    "        num+=1"
   ]
  },
  {
   "cell_type": "markdown",
   "id": "85b3fef6",
   "metadata": {},
   "source": [
    "### Create a program that prompts the user for a number and displays the table of that number using a loop."
   ]
  },
  {
   "cell_type": "code",
   "execution_count": 15,
   "id": "28aa0826",
   "metadata": {},
   "outputs": [
    {
     "name": "stdout",
     "output_type": "stream",
     "text": [
      "9 X 1 = 9\n",
      "9 X 2 = 18\n",
      "9 X 3 = 27\n",
      "9 X 4 = 36\n",
      "9 X 5 = 45\n",
      "9 X 6 = 54\n",
      "9 X 7 = 63\n",
      "9 X 8 = 72\n",
      "9 X 9 = 81\n",
      "9 X 10 = 90\n"
     ]
    }
   ],
   "source": [
    "num=int(input(\"Enter the number: \"))\n",
    "\n",
    "for i in range(1,11):\n",
    "    product=i*num\n",
    "    print(num,\"X\",i, \"=\" ,product)"
   ]
  },
  {
   "cell_type": "code",
   "execution_count": 20,
   "id": "a98bc15a",
   "metadata": {},
   "outputs": [
    {
     "name": "stdout",
     "output_type": "stream",
     "text": [
      "1 X 9 = 9\n",
      "2 X 9 = 18\n",
      "3 X 9 = 27\n",
      "4 X 9 = 36\n",
      "5 X 9 = 45\n",
      "6 X 9 = 54\n",
      "7 X 9 = 63\n",
      "8 X 9 = 72\n",
      "9 X 9 = 81\n",
      "10 X 9 = 90\n"
     ]
    }
   ],
   "source": [
    "num=int(input(\"Enter the number:\"))\n",
    "numb=1\n",
    "while numb<=10:\n",
    "    product=numb*num\n",
    "    print(numb,\"X\",num,\"=\", product)\n",
    "    numb+=1"
   ]
  },
  {
   "cell_type": "markdown",
   "id": "39e4de10",
   "metadata": {},
   "source": [
    "### Create a program that prompts the user for a number and displays the table of that number using a loop."
   ]
  },
  {
   "cell_type": "code",
   "execution_count": 22,
   "id": "a77c45c9",
   "metadata": {},
   "outputs": [
    {
     "name": "stdout",
     "output_type": "stream",
     "text": [
      "1 X 1 = 1\n",
      "1 X 2 = 2\n",
      "1 X 3 = 3\n",
      "1 X 4 = 4\n",
      "1 X 5 = 5\n",
      "1 X 6 = 6\n",
      "1 X 7 = 7\n",
      "1 X 8 = 8\n",
      "1 X 9 = 9\n",
      "1 X 10 = 10\n",
      "----------------------------------------\n",
      "2 X 1 = 2\n",
      "2 X 2 = 4\n",
      "2 X 3 = 6\n",
      "2 X 4 = 8\n",
      "2 X 5 = 10\n",
      "2 X 6 = 12\n",
      "2 X 7 = 14\n",
      "2 X 8 = 16\n",
      "2 X 9 = 18\n",
      "2 X 10 = 20\n",
      "----------------------------------------\n",
      "3 X 1 = 3\n",
      "3 X 2 = 6\n",
      "3 X 3 = 9\n",
      "3 X 4 = 12\n",
      "3 X 5 = 15\n",
      "3 X 6 = 18\n",
      "3 X 7 = 21\n",
      "3 X 8 = 24\n",
      "3 X 9 = 27\n",
      "3 X 10 = 30\n",
      "----------------------------------------\n",
      "4 X 1 = 4\n",
      "4 X 2 = 8\n",
      "4 X 3 = 12\n",
      "4 X 4 = 16\n",
      "4 X 5 = 20\n",
      "4 X 6 = 24\n",
      "4 X 7 = 28\n",
      "4 X 8 = 32\n",
      "4 X 9 = 36\n",
      "4 X 10 = 40\n",
      "----------------------------------------\n",
      "5 X 1 = 5\n",
      "5 X 2 = 10\n",
      "5 X 3 = 15\n",
      "5 X 4 = 20\n",
      "5 X 5 = 25\n",
      "5 X 6 = 30\n",
      "5 X 7 = 35\n",
      "5 X 8 = 40\n",
      "5 X 9 = 45\n",
      "5 X 10 = 50\n",
      "----------------------------------------\n",
      "6 X 1 = 6\n",
      "6 X 2 = 12\n",
      "6 X 3 = 18\n",
      "6 X 4 = 24\n",
      "6 X 5 = 30\n",
      "6 X 6 = 36\n",
      "6 X 7 = 42\n",
      "6 X 8 = 48\n",
      "6 X 9 = 54\n",
      "6 X 10 = 60\n",
      "----------------------------------------\n",
      "7 X 1 = 7\n",
      "7 X 2 = 14\n",
      "7 X 3 = 21\n",
      "7 X 4 = 28\n",
      "7 X 5 = 35\n",
      "7 X 6 = 42\n",
      "7 X 7 = 49\n",
      "7 X 8 = 56\n",
      "7 X 9 = 63\n",
      "7 X 10 = 70\n",
      "----------------------------------------\n",
      "8 X 1 = 8\n",
      "8 X 2 = 16\n",
      "8 X 3 = 24\n",
      "8 X 4 = 32\n",
      "8 X 5 = 40\n",
      "8 X 6 = 48\n",
      "8 X 7 = 56\n",
      "8 X 8 = 64\n",
      "8 X 9 = 72\n",
      "8 X 10 = 80\n",
      "----------------------------------------\n",
      "9 X 1 = 9\n",
      "9 X 2 = 18\n",
      "9 X 3 = 27\n",
      "9 X 4 = 36\n",
      "9 X 5 = 45\n",
      "9 X 6 = 54\n",
      "9 X 7 = 63\n",
      "9 X 8 = 72\n",
      "9 X 9 = 81\n",
      "9 X 10 = 90\n",
      "----------------------------------------\n",
      "10 X 1 = 10\n",
      "10 X 2 = 20\n",
      "10 X 3 = 30\n",
      "10 X 4 = 40\n",
      "10 X 5 = 50\n",
      "10 X 6 = 60\n",
      "10 X 7 = 70\n",
      "10 X 8 = 80\n",
      "10 X 9 = 90\n",
      "10 X 10 = 100\n",
      "----------------------------------------\n"
     ]
    }
   ],
   "source": [
    "for i in range(1,11):\n",
    "    for j in range(1,11):\n",
    "        product=i*j\n",
    "        print(i,\"X\",j,\"=\",product)\n",
    "    print(\"--\"*20)"
   ]
  },
  {
   "cell_type": "markdown",
   "id": "1a1800aa",
   "metadata": {},
   "source": [
    "### Write a program that asks the user for a number N and displays the sum of all numbers from 1 to N."
   ]
  },
  {
   "cell_type": "code",
   "execution_count": 27,
   "id": "815db6e8",
   "metadata": {},
   "outputs": [
    {
     "name": "stdout",
     "output_type": "stream",
     "text": [
      "the sum numbers from 1 to  9 is 45\n"
     ]
    }
   ],
   "source": [
    "num=int(input(\"Enter the number:\"))\n",
    "sum_of_num=0\n",
    "n=1\n",
    "while n<=num:\n",
    "    sum_of_num+=n\n",
    "    n+=1\n",
    "print(\"the sum numbers from 1 to \",num,\"is\",sum_of_num)\n"
   ]
  },
  {
   "cell_type": "markdown",
   "id": "373006b4",
   "metadata": {},
   "source": [
    "### Write a program that calculates and displays the sum of even numbers from 1 to 100 using a repeating loop."
   ]
  },
  {
   "cell_type": "code",
   "execution_count": 2,
   "id": "bc3de780",
   "metadata": {},
   "outputs": [
    {
     "name": "stdout",
     "output_type": "stream",
     "text": [
      "The sum of even numbers from 1 to 100 is: 2550\n"
     ]
    }
   ],
   "source": [
    "sum_of_even=0\n",
    "num=0\n",
    "while num<=100:\n",
    "    \n",
    "    sum_of_even+=num\n",
    "    num+=2\n",
    "print(\"The sum of even numbers from 1 to 100 is:\",sum_of_even)\n",
    "\n"
   ]
  },
  {
   "cell_type": "code",
   "execution_count": 4,
   "id": "6b5d4ab6",
   "metadata": {},
   "outputs": [
    {
     "name": "stdout",
     "output_type": "stream",
     "text": [
      "The sum of the even number from 1 to 100 is : 2500\n"
     ]
    }
   ],
   "source": [
    "sum_of_even=0\n",
    "for i in range(1,101,2):\n",
    "    sum_of_even+=i\n",
    "\n",
    "print(\"The sum of the even number from 1 to 100 is :\",sum_of_even)"
   ]
  },
  {
   "cell_type": "markdown",
   "id": "eff5741c",
   "metadata": {},
   "source": [
    "### Write a program that calculates and displays the value of the power of a number entered by the user raised to an exponent also entered by the user, using repetition loops."
   ]
  },
  {
   "cell_type": "code",
   "execution_count": 6,
   "id": "bf902332",
   "metadata": {},
   "outputs": [
    {
     "name": "stdout",
     "output_type": "stream",
     "text": [
      "the result of 3 raised to the power of 3 is 27\n"
     ]
    }
   ],
   "source": [
    "base=int(input(\"Enter the base number:\"))\n",
    "exp=int(input(\"Enter the expo Number :\"))\n",
    "result=1\n",
    "for _ in range(1,exp+1):\n",
    "    result*=base\n",
    "print(\"the result of\",base,\"raised to the power of\",exp,\"is\",result)"
   ]
  },
  {
   "cell_type": "markdown",
   "id": "6fe44106",
   "metadata": {},
   "source": [
    "### Write a program that asks the user for a number N and says whether it is prime or not."
   ]
  },
  {
   "cell_type": "code",
   "execution_count": 7,
   "id": "d6fae74e",
   "metadata": {},
   "outputs": [
    {
     "name": "stdout",
     "output_type": "stream",
     "text": [
      "7 is a prime number\n"
     ]
    }
   ],
   "source": [
    "num=int(input(\"Enter the number;\"))\n",
    "\n",
    "if num<2:\n",
    "    is_prime =False\n",
    "else:\n",
    "    is_prime= True\n",
    "    for i in range(2,int(num**0.5)+1):\n",
    "        if num%i==0:\n",
    "            is_prime==False\n",
    "            break\n",
    "\n",
    "if is_prime:\n",
    "    print(num,\"is a prime number\")\n",
    "else:\n",
    "    print(num,\"is not a prime number\")"
   ]
  },
  {
   "cell_type": "markdown",
   "id": "78c08fce",
   "metadata": {},
   "source": [
    "### Write a program that prompts the user for a number N and displays all prime numbers less than N."
   ]
  },
  {
   "cell_type": "code",
   "execution_count": 1,
   "id": "ec510436",
   "metadata": {},
   "outputs": [
    {
     "name": "stdout",
     "output_type": "stream",
     "text": [
      "2 3 5 7 11 13 17 19 23 29 31 37 41 43 47 53 59 61 \n"
     ]
    }
   ],
   "source": [
    "n=int(input(\"Enter the Number:\"))\n",
    "for num in range(2,n):\n",
    "    is_prime=True\n",
    "    # check if the current number is divisible by any integer from 2\n",
    "    # to the sqr root of the number\n",
    "    for i in range(2,int(num**0.5)+1):\n",
    "        if num%i==0:\n",
    "            is_prime=False\n",
    "            break\n",
    "    ## Display the prime number\n",
    "    if is_prime:\n",
    "        print(num,end=\" \")\n",
    "    \n",
    "## Add a new line for better output formatting\n",
    "print()"
   ]
  },
  {
   "cell_type": "markdown",
   "id": "bd583c5e",
   "metadata": {},
   "source": [
    "### Create a program that displays the first N prime numbers, where N is informed by the user, using a loop."
   ]
  },
  {
   "cell_type": "code",
   "execution_count": 3,
   "id": "aea092b9",
   "metadata": {},
   "outputs": [
    {
     "name": "stdout",
     "output_type": "stream",
     "text": [
      "7 11 13 17 19 23 29 31 37 41 43 47 53 59 61 67 71 73 79 83 89 97 101 103 107 109 113 127 131 137 139 149 151 157 163 167 173 179 181 191 193 197 199 211 223 227 229 233 239 241 251 257 263 269 271 277 281 283 293 307 311 313 317 331 337 347 349 353 359 367 373 379 383 389 397 401 409 419 421 431 433 439 443 449 457 461 463 467 479 \n"
     ]
    }
   ],
   "source": [
    "n=int(input(\"Enter the Value of N :\"))\n",
    "\n",
    "count=0 # Initialize a counter to keep track of the number of prime numbers found\n",
    "num=2 # start checking prime number from 2\n",
    "\n",
    "while count<n:\n",
    "    is_prime=True\n",
    "\n",
    "    # check if the current number is divisible by any number\n",
    "    # # from 2 to the sqr root of the number\n",
    "    for i in range(2,int(num**0.5)+5):\n",
    "        if num%i==0:\n",
    "            is_prime=False\n",
    "            break\n",
    "    # if the number is prime\n",
    "    if is_prime:\n",
    "        print(num,end=\" \")\n",
    "        count+=1\n",
    "    num+=1\n",
    "\n",
    "\n",
    "print()"
   ]
  },
  {
   "cell_type": "markdown",
   "id": "005d29d1",
   "metadata": {},
   "source": [
    "### Create a program that displays the first N first perfect squares, where N is informed by the user, using a loop."
   ]
  },
  {
   "cell_type": "code",
   "execution_count": 1,
   "id": "1f6b9955",
   "metadata": {},
   "outputs": [
    {
     "name": "stdout",
     "output_type": "stream",
     "text": [
      "1 4 9 16 25 \n"
     ]
    }
   ],
   "source": [
    "n=int(input(\"Enter the Number :\"))\n",
    "\n",
    "count=0\n",
    "num=1 # start with first positive\n",
    "\n",
    "while count<n:\n",
    "    square=num**2 ## Calculate the squae of the current number\n",
    "    print(square,end=\" \")\n",
    "    count+=1\n",
    "    num+=1\n",
    "\n",
    "print()"
   ]
  },
  {
   "cell_type": "markdown",
   "id": "d73471bc",
   "metadata": {},
   "source": [
    "### Write a program that prompts the user for two numbers A and B and displays all numbers between A and B."
   ]
  },
  {
   "cell_type": "code",
   "execution_count": 2,
   "id": "43c68965",
   "metadata": {},
   "outputs": [
    {
     "name": "stdout",
     "output_type": "stream",
     "text": [
      "2 3 4 5 6 7 8 9 10 11 12 13 14 15 16 17 18 19 20 21 22 23 24 25 26 27 28 29 30 31 32 33 34 35 36 37 38 39 40 41 42 43 44 45 46 47 48 49 50 51 52 53 54 55 \n"
     ]
    }
   ],
   "source": [
    "a=int(input(\"enter the A number :\"))\n",
    "b=int(input(\"Enter the B number :\"))\n",
    "\n",
    "start=min(a,b)\n",
    "end=max(a,b)\n",
    "\n",
    "for i in range(start,end+1):\n",
    "    print(i, end=\" \")\n",
    "\n",
    "print()"
   ]
  },
  {
   "cell_type": "markdown",
   "id": "04a9f631",
   "metadata": {},
   "source": [
    "### ​Write a program that reads numbers from the user until a negative number is entered, and prints the sum of the positive numbers."
   ]
  },
  {
   "cell_type": "code",
   "execution_count": 4,
   "id": "d773a301",
   "metadata": {},
   "outputs": [
    {
     "name": "stdout",
     "output_type": "stream",
     "text": [
      "Sum of Positive Numbers : 21\n"
     ]
    }
   ],
   "source": [
    "sum_of_positive=0\n",
    "\n",
    "while True:\n",
    "    n=int(input(\"Enter a number \"))\n",
    "    # Check number is postive or nagative\n",
    "    if n>=0:\n",
    "        sum_of_positive+=n\n",
    "    else:\n",
    "        break\n",
    "\n",
    "print(\"Sum of Positive Numbers :\",sum_of_positive)\n"
   ]
  },
  {
   "cell_type": "markdown",
   "id": "c59c988c",
   "metadata": {},
   "source": [
    "### Write a program that prompts the user for a number and displays the Fibonacci sequence up to the given number using a repeating loop."
   ]
  },
  {
   "cell_type": "code",
   "execution_count": 6,
   "id": "2a8959dc",
   "metadata": {},
   "outputs": [
    {
     "name": "stdout",
     "output_type": "stream",
     "text": [
      "Fibonacci sequence up to 6 :\n",
      "0 1 1 2 3 5 "
     ]
    }
   ],
   "source": [
    "n=int(input(\"Enter the Number :\"))\n",
    "\n",
    "pre_num=0\n",
    "current_num=1\n",
    "\n",
    "print(\"Fibonacci sequence up to\",n,\":\")\n",
    "print(pre_num,end=\" \")\n",
    "\n",
    "while current_num<=n:\n",
    "    print(current_num,end=\" \")\n",
    "\n",
    "    next_num=current_num+pre_num\n",
    "    pre_num=current_num\n",
    "    current_num=next_num"
   ]
  },
  {
   "cell_type": "code",
   "execution_count": null,
   "id": "ae88b38a",
   "metadata": {},
   "outputs": [],
   "source": []
  }
 ],
 "metadata": {
  "kernelspec": {
   "display_name": "myenv",
   "language": "python",
   "name": "python3"
  },
  "language_info": {
   "codemirror_mode": {
    "name": "ipython",
    "version": 3
   },
   "file_extension": ".py",
   "mimetype": "text/x-python",
   "name": "python",
   "nbconvert_exporter": "python",
   "pygments_lexer": "ipython3",
   "version": "3.10.18"
  }
 },
 "nbformat": 4,
 "nbformat_minor": 5
}
